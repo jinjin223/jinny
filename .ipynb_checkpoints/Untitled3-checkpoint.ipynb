{
 "cells": [
  {
   "cell_type": "code",
   "execution_count": null,
   "id": "e9e8a753",
   "metadata": {},
   "outputs": [],
   "source": [
    "함수의 기본구조\n",
    "\n",
    "def(함수이름)(input):\n",
    "    (연산 등의 코드)\n",
    "    return(리턴값)\n",
    "\n",
    "연산을 하는 함수\n",
    "\n",
    "def func1(x, y): #x,y를 입력받음\n",
    "    z=x%y #연산1\n",
    "    w=x-y #연산2\n",
    "    if z>w: #조건에 따른 다른 리턴\n",
    "        return 'type1'\n",
    "    else:\n",
    "        return 'type2'"
   ]
  },
  {
   "cell_type": "code",
   "execution_count": null,
   "id": "b752f1da",
   "metadata": {},
   "outputs": [],
   "source": [
    "리스트 컴프리헨션\n",
    "[fn(i) for i in range(10)]\n",
    "\n",
    "apply 함수 이용\n",
    "df'['col1'].apply(lambda x: fn(x))\n",
    "\n",
    "반복문에 활용\n",
    "for i in range(10):\n",
    "    print  "
   ]
  },
  {
   "cell_type": "code",
   "execution_count": 3,
   "id": "4089958e",
   "metadata": {},
   "outputs": [],
   "source": [
    "def func1():\n",
    "    print('function 1')"
   ]
  },
  {
   "cell_type": "code",
   "execution_count": 4,
   "id": "e3441c77",
   "metadata": {},
   "outputs": [
    {
     "name": "stdout",
     "output_type": "stream",
     "text": [
      "function 1\n"
     ]
    }
   ],
   "source": [
    "func1()"
   ]
  },
  {
   "cell_type": "code",
   "execution_count": 7,
   "id": "8314d682",
   "metadata": {},
   "outputs": [],
   "source": [
    "def func1(x):\n",
    "    x=1 #x는 지역(로컬)변수: 이 지역에서만 사용할 수 있는 변수->지역변수로 선언한 것\n",
    "    if x==1:\n",
    "        return 'function1  \n",
    "    else:\n",
    "        return 'function2'"
   ]
  },
  {
   "cell_type": "code",
   "execution_count": 8,
   "id": "efc466d3",
   "metadata": {},
   "outputs": [
    {
     "data": {
      "text/plain": [
       "'function1'"
      ]
     },
     "execution_count": 8,
     "metadata": {},
     "output_type": "execute_result"
    }
   ],
   "source": [
    "x=1\n",
    "func1(x)"
   ]
  },
  {
   "cell_type": "code",
   "execution_count": 9,
   "id": "410ec824",
   "metadata": {},
   "outputs": [
    {
     "data": {
      "text/plain": [
       "'function2'"
      ]
     },
     "execution_count": 9,
     "metadata": {},
     "output_type": "execute_result"
    }
   ],
   "source": [
    "x=2\n",
    "func1(x)"
   ]
  },
  {
   "cell_type": "code",
   "execution_count": 10,
   "id": "a08972a1",
   "metadata": {},
   "outputs": [
    {
     "data": {
      "text/plain": [
       "'function1'"
      ]
     },
     "execution_count": 10,
     "metadata": {},
     "output_type": "execute_result"
    }
   ],
   "source": [
    "x=10 # x는 전역(글로벌)변수\n",
    "a=1\n",
    "func1(a)"
   ]
  },
  {
   "cell_type": "code",
   "execution_count": 11,
   "id": "4ecafe02",
   "metadata": {},
   "outputs": [
    {
     "data": {
      "text/plain": [
       "10"
      ]
     },
     "execution_count": 11,
     "metadata": {},
     "output_type": "execute_result"
    }
   ],
   "source": [
    "x"
   ]
  },
  {
   "cell_type": "code",
   "execution_count": 12,
   "id": "e5d45d4c",
   "metadata": {},
   "outputs": [
    {
     "name": "stdout",
     "output_type": "stream",
     "text": [
      "1\n",
      "1\n",
      "1\n",
      "1\n",
      "1\n"
     ]
    }
   ],
   "source": [
    "x=10\n",
    "\n",
    "for x in range(5):\n",
    "    print(1)"
   ]
  },
  {
   "cell_type": "code",
   "execution_count": 24,
   "id": "428d4e78",
   "metadata": {},
   "outputs": [],
   "source": [
    "def func2(input1):\n",
    "    global input2 #전역변수라고 선언함\n",
    "    input2= input1+input2\n",
    "    input2 +=5 #전역변수 수정시도한 것->하지만 전역변수 수정 지원되지 않음\n",
    "    \n",
    "    return input3"
   ]
  },
  {
   "cell_type": "code",
   "execution_count": 25,
   "id": "97b8f6d2",
   "metadata": {},
   "outputs": [],
   "source": [
    "input2=384 #전역변수에서 지역변수로 바로 사용하지 못하고 지역변수로 정의되어야함"
   ]
  },
  {
   "cell_type": "code",
   "execution_count": 26,
   "id": "69719cb4",
   "metadata": {},
   "outputs": [
    {
     "ename": "NameError",
     "evalue": "name 'input3' is not defined",
     "output_type": "error",
     "traceback": [
      "\u001b[1;31m---------------------------------------------------------------------------\u001b[0m",
      "\u001b[1;31mNameError\u001b[0m                                 Traceback (most recent call last)",
      "\u001b[1;32m~\\AppData\\Local\\Temp\\ipykernel_15992\\3168695530.py\u001b[0m in \u001b[0;36m<module>\u001b[1;34m\u001b[0m\n\u001b[1;32m----> 1\u001b[1;33m \u001b[0mfunc2\u001b[0m\u001b[1;33m(\u001b[0m\u001b[1;36m768\u001b[0m\u001b[1;33m)\u001b[0m\u001b[1;33m\u001b[0m\u001b[1;33m\u001b[0m\u001b[0m\n\u001b[0m",
      "\u001b[1;32m~\\AppData\\Local\\Temp\\ipykernel_15992\\1257757906.py\u001b[0m in \u001b[0;36mfunc2\u001b[1;34m(input1)\u001b[0m\n\u001b[0;32m      4\u001b[0m     \u001b[0minput2\u001b[0m \u001b[1;33m+=\u001b[0m\u001b[1;36m5\u001b[0m \u001b[1;31m#전역변수 수정시도한 것->하지만 전역변수 수정 지원되지 않음\u001b[0m\u001b[1;33m\u001b[0m\u001b[1;33m\u001b[0m\u001b[0m\n\u001b[0;32m      5\u001b[0m \u001b[1;33m\u001b[0m\u001b[0m\n\u001b[1;32m----> 6\u001b[1;33m     \u001b[1;32mreturn\u001b[0m \u001b[0minput3\u001b[0m\u001b[1;33m\u001b[0m\u001b[1;33m\u001b[0m\u001b[0m\n\u001b[0m",
      "\u001b[1;31mNameError\u001b[0m: name 'input3' is not defined"
     ]
    }
   ],
   "source": [
    "func2(768)"
   ]
  },
  {
   "cell_type": "code",
   "execution_count": 23,
   "id": "8d6b9863",
   "metadata": {},
   "outputs": [
    {
     "data": {
      "text/plain": [
       "1157"
      ]
     },
     "execution_count": 23,
     "metadata": {},
     "output_type": "execute_result"
    }
   ],
   "source": [
    "input2"
   ]
  },
  {
   "cell_type": "code",
   "execution_count": 35,
   "id": "becaa960",
   "metadata": {},
   "outputs": [],
   "source": [
    "def func2(input1):\n",
    "    input3=input1+input2\n",
    "    input2=999 #지역변수 먼저 선언\n",
    "    input3=input1+input2\n",
    "    input2 +=5\n",
    "    \n",
    "    return input3"
   ]
  },
  {
   "cell_type": "code",
   "execution_count": 36,
   "id": "4043d653",
   "metadata": {},
   "outputs": [],
   "source": [
    "input2=384"
   ]
  },
  {
   "cell_type": "code",
   "execution_count": 37,
   "id": "340563fc",
   "metadata": {},
   "outputs": [
    {
     "ename": "UnboundLocalError",
     "evalue": "local variable 'input2' referenced before assignment",
     "output_type": "error",
     "traceback": [
      "\u001b[1;31m---------------------------------------------------------------------------\u001b[0m",
      "\u001b[1;31mUnboundLocalError\u001b[0m                         Traceback (most recent call last)",
      "\u001b[1;32m~\\AppData\\Local\\Temp\\ipykernel_15992\\3168695530.py\u001b[0m in \u001b[0;36m<module>\u001b[1;34m\u001b[0m\n\u001b[1;32m----> 1\u001b[1;33m \u001b[0mfunc2\u001b[0m\u001b[1;33m(\u001b[0m\u001b[1;36m768\u001b[0m\u001b[1;33m)\u001b[0m\u001b[1;33m\u001b[0m\u001b[1;33m\u001b[0m\u001b[0m\n\u001b[0m",
      "\u001b[1;32m~\\AppData\\Local\\Temp\\ipykernel_15992\\2480127956.py\u001b[0m in \u001b[0;36mfunc2\u001b[1;34m(input1)\u001b[0m\n\u001b[0;32m      1\u001b[0m \u001b[1;32mdef\u001b[0m \u001b[0mfunc2\u001b[0m\u001b[1;33m(\u001b[0m\u001b[0minput1\u001b[0m\u001b[1;33m)\u001b[0m\u001b[1;33m:\u001b[0m\u001b[1;33m\u001b[0m\u001b[1;33m\u001b[0m\u001b[0m\n\u001b[1;32m----> 2\u001b[1;33m     \u001b[0minput3\u001b[0m\u001b[1;33m=\u001b[0m\u001b[0minput1\u001b[0m\u001b[1;33m+\u001b[0m\u001b[0minput2\u001b[0m\u001b[1;33m\u001b[0m\u001b[1;33m\u001b[0m\u001b[0m\n\u001b[0m\u001b[0;32m      3\u001b[0m     \u001b[0minput2\u001b[0m\u001b[1;33m=\u001b[0m\u001b[1;36m999\u001b[0m \u001b[1;31m#지역변수 먼저 선언\u001b[0m\u001b[1;33m\u001b[0m\u001b[1;33m\u001b[0m\u001b[0m\n\u001b[0;32m      4\u001b[0m     \u001b[0minput3\u001b[0m\u001b[1;33m=\u001b[0m\u001b[0minput1\u001b[0m\u001b[1;33m+\u001b[0m\u001b[0minput2\u001b[0m\u001b[1;33m\u001b[0m\u001b[1;33m\u001b[0m\u001b[0m\n\u001b[0;32m      5\u001b[0m     \u001b[0minput2\u001b[0m \u001b[1;33m+=\u001b[0m\u001b[1;36m5\u001b[0m\u001b[1;33m\u001b[0m\u001b[1;33m\u001b[0m\u001b[0m\n",
      "\u001b[1;31mUnboundLocalError\u001b[0m: local variable 'input2' referenced before assignment"
     ]
    }
   ],
   "source": [
    "func2(768)"
   ]
  },
  {
   "cell_type": "code",
   "execution_count": 31,
   "id": "dae7b992",
   "metadata": {},
   "outputs": [
    {
     "data": {
      "text/plain": [
       "384"
      ]
     },
     "execution_count": 31,
     "metadata": {},
     "output_type": "execute_result"
    }
   ],
   "source": [
    "input2"
   ]
  },
  {
   "cell_type": "markdown",
   "id": "55e9bc9a",
   "metadata": {},
   "source": [
    "## 실습: 함수를 이용한 반복문\n",
    "func3 함수를 만든다\n",
    "해당함수는 입력된 두 수의 제곱을 각각 리턴한다\n",
    "1~10 범위에서 해당 연산을 반복하고 출력하도록 구성한다\n",
    "\n",
    "숫자A를 2 입력하고\n",
    "숫자B를 3 입력했을 때\n",
    "10번 2^2, 3^2가 출력되어야 한다\n",
    "ex.)\n",
    "4,9\n",
    "4,9\n",
    "4,9\n",
    "4,9\n",
    "4,9\n",
    "4,9\n",
    "4,9\n",
    "4,9\n",
    "4,9\n",
    "4,9 출력"
   ]
  },
  {
   "cell_type": "code",
   "execution_count": 44,
   "id": "d84a00d5",
   "metadata": {},
   "outputs": [],
   "source": [
    "def sq(a, b):\n",
    "    return a**2, b**2    "
   ]
  },
  {
   "cell_type": "code",
   "execution_count": 45,
   "id": "2db604ef",
   "metadata": {},
   "outputs": [
    {
     "data": {
      "text/plain": [
       "(4, 9)"
      ]
     },
     "execution_count": 45,
     "metadata": {},
     "output_type": "execute_result"
    }
   ],
   "source": [
    "sq(2, 3)"
   ]
  },
  {
   "cell_type": "code",
   "execution_count": 46,
   "id": "fb5e172b",
   "metadata": {},
   "outputs": [
    {
     "name": "stdout",
     "output_type": "stream",
     "text": [
      "(4, 9)\n",
      "(4, 9)\n",
      "(4, 9)\n",
      "(4, 9)\n",
      "(4, 9)\n",
      "(4, 9)\n",
      "(4, 9)\n",
      "(4, 9)\n",
      "(4, 9)\n",
      "(4, 9)\n"
     ]
    }
   ],
   "source": [
    "for i in range(10):\n",
    "    print(sq(2,3))"
   ]
  },
  {
   "cell_type": "code",
   "execution_count": 47,
   "id": "8aee569e",
   "metadata": {},
   "outputs": [
    {
     "ename": "NameError",
     "evalue": "name 'func_ex' is not defined",
     "output_type": "error",
     "traceback": [
      "\u001b[1;31m---------------------------------------------------------------------------\u001b[0m",
      "\u001b[1;31mNameError\u001b[0m                                 Traceback (most recent call last)",
      "\u001b[1;32m~\\AppData\\Local\\Temp\\ipykernel_15992\\3964367653.py\u001b[0m in \u001b[0;36m<module>\u001b[1;34m\u001b[0m\n\u001b[1;32m----> 1\u001b[1;33m \u001b[0mfunc_ex\u001b[0m\u001b[1;33m(\u001b[0m\u001b[1;36m12\u001b[0m\u001b[1;33m,\u001b[0m \u001b[1;36m9\u001b[0m\u001b[1;33m)\u001b[0m\u001b[1;33m\u001b[0m\u001b[1;33m\u001b[0m\u001b[0m\n\u001b[0m",
      "\u001b[1;31mNameError\u001b[0m: name 'func_ex' is not defined"
     ]
    }
   ],
   "source": [
    "func_ex(12, 9)"
   ]
  },
  {
   "cell_type": "code",
   "execution_count": 53,
   "id": "9c5b7c81",
   "metadata": {},
   "outputs": [],
   "source": [
    "def func_ex():\n",
    "    print(numberA, numberB)"
   ]
  },
  {
   "cell_type": "code",
   "execution_count": 54,
   "id": "f2938c2f",
   "metadata": {},
   "outputs": [
    {
     "ename": "NameError",
     "evalue": "name 'numberA' is not defined",
     "output_type": "error",
     "traceback": [
      "\u001b[1;31m---------------------------------------------------------------------------\u001b[0m",
      "\u001b[1;31mNameError\u001b[0m                                 Traceback (most recent call last)",
      "\u001b[1;32m~\\AppData\\Local\\Temp\\ipykernel_15992\\3877377447.py\u001b[0m in \u001b[0;36m<module>\u001b[1;34m\u001b[0m\n\u001b[1;32m----> 1\u001b[1;33m \u001b[0mfunc_ex\u001b[0m\u001b[1;33m(\u001b[0m\u001b[1;33m)\u001b[0m\u001b[1;33m\u001b[0m\u001b[1;33m\u001b[0m\u001b[0m\n\u001b[0m",
      "\u001b[1;32m~\\AppData\\Local\\Temp\\ipykernel_15992\\477882793.py\u001b[0m in \u001b[0;36mfunc_ex\u001b[1;34m()\u001b[0m\n\u001b[0;32m      1\u001b[0m \u001b[1;32mdef\u001b[0m \u001b[0mfunc_ex\u001b[0m\u001b[1;33m(\u001b[0m\u001b[1;33m)\u001b[0m\u001b[1;33m:\u001b[0m\u001b[1;33m\u001b[0m\u001b[1;33m\u001b[0m\u001b[0m\n\u001b[1;32m----> 2\u001b[1;33m     \u001b[0mprint\u001b[0m\u001b[1;33m(\u001b[0m\u001b[0mnumberA\u001b[0m\u001b[1;33m,\u001b[0m \u001b[0mnumberB\u001b[0m\u001b[1;33m)\u001b[0m\u001b[1;33m\u001b[0m\u001b[1;33m\u001b[0m\u001b[0m\n\u001b[0m",
      "\u001b[1;31mNameError\u001b[0m: name 'numberA' is not defined"
     ]
    }
   ],
   "source": [
    "func_ex()"
   ]
  },
  {
   "cell_type": "code",
   "execution_count": 61,
   "id": "ef0c15a3",
   "metadata": {},
   "outputs": [
    {
     "data": {
      "text/plain": [
       "1"
      ]
     },
     "execution_count": 61,
     "metadata": {},
     "output_type": "execute_result"
    }
   ],
   "source": [
    "func1(1)"
   ]
  },
  {
   "cell_type": "code",
   "execution_count": 62,
   "id": "e79cbfe7",
   "metadata": {},
   "outputs": [
    {
     "data": {
      "text/plain": [
       "2"
      ]
     },
     "execution_count": 62,
     "metadata": {},
     "output_type": "execute_result"
    }
   ],
   "source": [
    "func2(2)"
   ]
  },
  {
   "cell_type": "code",
   "execution_count": null,
   "id": "433a4437",
   "metadata": {},
   "outputs": [],
   "source": [
    "func3(3)"
   ]
  },
  {
   "cell_type": "code",
   "execution_count": null,
   "id": "280b52e6",
   "metadata": {},
   "outputs": [],
   "source": [
    "fun4(4)"
   ]
  },
  {
   "cell_type": "code",
   "execution_count": 63,
   "id": "34b08599",
   "metadata": {},
   "outputs": [],
   "source": [
    "def func1(x):\n",
    "    return x"
   ]
  },
  {
   "cell_type": "code",
   "execution_count": 64,
   "id": "99b136fa",
   "metadata": {},
   "outputs": [],
   "source": [
    "def func2(y):\n",
    "    return y"
   ]
  },
  {
   "cell_type": "code",
   "execution_count": 65,
   "id": "ec31decd",
   "metadata": {},
   "outputs": [],
   "source": [
    "def func3(x):\n",
    "    def func4(x):\n",
    "        return x\n",
    "    \n",
    "    return func4(x)"
   ]
  },
  {
   "cell_type": "code",
   "execution_count": 66,
   "id": "ff82aef0",
   "metadata": {},
   "outputs": [],
   "source": [
    "def func5(x):\n",
    "    return func1(x)"
   ]
  },
  {
   "cell_type": "code",
   "execution_count": 67,
   "id": "9eb222ca",
   "metadata": {},
   "outputs": [
    {
     "data": {
      "text/plain": [
       "3"
      ]
     },
     "execution_count": 67,
     "metadata": {},
     "output_type": "execute_result"
    }
   ],
   "source": [
    "func3(3)"
   ]
  },
  {
   "cell_type": "code",
   "execution_count": 68,
   "id": "2a729ac6",
   "metadata": {},
   "outputs": [
    {
     "data": {
      "text/plain": [
       "5"
      ]
     },
     "execution_count": 68,
     "metadata": {},
     "output_type": "execute_result"
    }
   ],
   "source": [
    "func5(5)"
   ]
  },
  {
   "cell_type": "code",
   "execution_count": 69,
   "id": "ddf7f45c",
   "metadata": {},
   "outputs": [
    {
     "name": "stdout",
     "output_type": "stream",
     "text": [
      "0 4\n",
      "1 4\n",
      "2 4\n",
      "3 4\n",
      "4 4\n"
     ]
    }
   ],
   "source": [
    "for i in range(5):\n",
    "    for j in range(5):\n",
    "        pass\n",
    "    \n",
    "    print(i, j)"
   ]
  },
  {
   "cell_type": "markdown",
   "id": "17c91210",
   "metadata": {},
   "source": [
    "실습: 함수 써보기"
   ]
  },
  {
   "cell_type": "code",
   "execution_count": null,
   "id": "60714b35",
   "metadata": {},
   "outputs": [],
   "source": [
    "def sum_all(x,y,z,w):\n",
    "    sum_1=x+y\n",
    "    sum_2_=sum_1_+z\n",
    "    sum_3=sum_1+z\n",
    "    sum_4=sum_3+sum_2+sum_1\n",
    "    \n",
    "    sum_5=0\n",
    "    for i in range(w):\n",
    "        sum_5+=sum_4\n",
    "        \n",
    "    return sum_5"
   ]
  },
  {
   "cell_type": "code",
   "execution_count": null,
   "id": "cca1871d",
   "metadata": {},
   "outputs": [],
   "source": []
  },
  {
   "cell_type": "code",
   "execution_count": null,
   "id": "38658bde",
   "metadata": {},
   "outputs": [],
   "source": [
    "def for_loop(x,y):\n",
    "    res=0\n",
    "    \n",
    "    for i in range(x):\n",
    "        res+=x\n",
    "        \n",
    "        for i in y:\n",
    "            res-=j\n",
    "            \n",
    "    return res"
   ]
  },
  {
   "cell_type": "code",
   "execution_count": null,
   "id": "50084c56",
   "metadata": {},
   "outputs": [],
   "source": [
    "def list_return(x,y,z,w):\n",
    "    return [i+x+z for i in range(w)]"
   ]
  },
  {
   "cell_type": "code",
   "execution_count": 1,
   "id": "187acf7b",
   "metadata": {},
   "outputs": [
    {
     "name": "stdout",
     "output_type": "stream",
     "text": [
      "number1:1\n",
      "number2:2\n",
      "number3:3\n",
      "number4:4\n"
     ]
    }
   ],
   "source": [
    "x=int(input('number1:'))\n",
    "y=int(input('number2:'))\n",
    "z=int(input('number3:'))\n",
    "w=int(input('number4:'))"
   ]
  },
  {
   "cell_type": "code",
   "execution_count": 11,
   "id": "50135b10",
   "metadata": {},
   "outputs": [
    {
     "ename": "NameError",
     "evalue": "name 'sum_all' is not defined",
     "output_type": "error",
     "traceback": [
      "\u001b[1;31m---------------------------------------------------------------------------\u001b[0m",
      "\u001b[1;31mNameError\u001b[0m                                 Traceback (most recent call last)",
      "\u001b[1;32m~\\AppData\\Local\\Temp\\ipykernel_3348\\3333124105.py\u001b[0m in \u001b[0;36m<module>\u001b[1;34m\u001b[0m\n\u001b[1;32m----> 1\u001b[1;33m \u001b[0mnum1_res\u001b[0m\u001b[1;33m=\u001b[0m\u001b[0msum_all\u001b[0m\u001b[1;33m(\u001b[0m\u001b[0mx\u001b[0m\u001b[1;33m,\u001b[0m \u001b[0my\u001b[0m\u001b[1;33m,\u001b[0m \u001b[0mz\u001b[0m\u001b[1;33m,\u001b[0m \u001b[0mw\u001b[0m\u001b[1;33m)\u001b[0m\u001b[1;33m\u001b[0m\u001b[1;33m\u001b[0m\u001b[0m\n\u001b[0m",
      "\u001b[1;31mNameError\u001b[0m: name 'sum_all' is not defined"
     ]
    }
   ],
   "source": [
    "num1_res=sum_all(x, y, z, w)"
   ]
  },
  {
   "cell_type": "code",
   "execution_count": 12,
   "id": "708ab15d",
   "metadata": {},
   "outputs": [
    {
     "ename": "NameError",
     "evalue": "name 'for_loop' is not defined",
     "output_type": "error",
     "traceback": [
      "\u001b[1;31m---------------------------------------------------------------------------\u001b[0m",
      "\u001b[1;31mNameError\u001b[0m                                 Traceback (most recent call last)",
      "\u001b[1;32m~\\AppData\\Local\\Temp\\ipykernel_3348\\3273512055.py\u001b[0m in \u001b[0;36m<module>\u001b[1;34m\u001b[0m\n\u001b[1;32m----> 1\u001b[1;33m \u001b[0mnum2_res\u001b[0m\u001b[1;33m=\u001b[0m\u001b[0mfor_loop\u001b[0m\u001b[1;33m(\u001b[0m\u001b[0mnum1_res\u001b[0m\u001b[1;33m,\u001b[0m \u001b[0mx\u001b[0m\u001b[1;33m)\u001b[0m\u001b[1;33m\u001b[0m\u001b[1;33m\u001b[0m\u001b[0m\n\u001b[0m",
      "\u001b[1;31mNameError\u001b[0m: name 'for_loop' is not defined"
     ]
    }
   ],
   "source": [
    "num2_res=for_loop(num1_res, x)"
   ]
  },
  {
   "cell_type": "code",
   "execution_count": 13,
   "id": "e7eae045",
   "metadata": {},
   "outputs": [
    {
     "ename": "NameError",
     "evalue": "name 'list_return' is not defined",
     "output_type": "error",
     "traceback": [
      "\u001b[1;31m---------------------------------------------------------------------------\u001b[0m",
      "\u001b[1;31mNameError\u001b[0m                                 Traceback (most recent call last)",
      "\u001b[1;32m~\\AppData\\Local\\Temp\\ipykernel_3348\\3146483310.py\u001b[0m in \u001b[0;36m<module>\u001b[1;34m\u001b[0m\n\u001b[1;32m----> 1\u001b[1;33m \u001b[0mnum3_res\u001b[0m\u001b[1;33m=\u001b[0m\u001b[0mlist_return\u001b[0m\u001b[1;33m(\u001b[0m\u001b[0mnum1_res\u001b[0m\u001b[1;33m,\u001b[0m \u001b[0mnum2_res\u001b[0m\u001b[1;33m,\u001b[0m \u001b[0mz\u001b[0m\u001b[1;33m,\u001b[0m \u001b[0mw\u001b[0m\u001b[1;33m)\u001b[0m\u001b[1;33m\u001b[0m\u001b[1;33m\u001b[0m\u001b[0m\n\u001b[0m",
      "\u001b[1;31mNameError\u001b[0m: name 'list_return' is not defined"
     ]
    }
   ],
   "source": [
    "num3_res=list_return(num1_res, num2_res, z, w)"
   ]
  },
  {
   "cell_type": "code",
   "execution_count": 14,
   "id": "c7d25cf4",
   "metadata": {},
   "outputs": [
    {
     "ename": "NameError",
     "evalue": "name 'num_res' is not defined",
     "output_type": "error",
     "traceback": [
      "\u001b[1;31m---------------------------------------------------------------------------\u001b[0m",
      "\u001b[1;31mNameError\u001b[0m                                 Traceback (most recent call last)",
      "\u001b[1;32m~\\AppData\\Local\\Temp\\ipykernel_3348\\1797919163.py\u001b[0m in \u001b[0;36m<module>\u001b[1;34m\u001b[0m\n\u001b[1;32m----> 1\u001b[1;33m \u001b[0mprint\u001b[0m\u001b[1;33m(\u001b[0m\u001b[0mnum_res\u001b[0m\u001b[1;33m)\u001b[0m\u001b[1;33m\u001b[0m\u001b[1;33m\u001b[0m\u001b[0m\n\u001b[0m",
      "\u001b[1;31mNameError\u001b[0m: name 'num_res' is not defined"
     ]
    }
   ],
   "source": [
    "print(num_res)"
   ]
  },
  {
   "cell_type": "code",
   "execution_count": null,
   "id": "55395419",
   "metadata": {},
   "outputs": [],
   "source": [
    "print(num2_res)"
   ]
  },
  {
   "cell_type": "code",
   "execution_count": 17,
   "id": "007727d8",
   "metadata": {},
   "outputs": [],
   "source": [
    "import pandas as pd"
   ]
  },
  {
   "cell_type": "code",
   "execution_count": 22,
   "id": "100f8457",
   "metadata": {},
   "outputs": [],
   "source": [
    "df = pd.read_excel(\"C:/Users/user/Downloads/RNAseq_result.xlsx\")"
   ]
  },
  {
   "cell_type": "code",
   "execution_count": 23,
   "id": "41490f58",
   "metadata": {},
   "outputs": [
    {
     "data": {
      "text/html": [
       "<div>\n",
       "<style scoped>\n",
       "    .dataframe tbody tr th:only-of-type {\n",
       "        vertical-align: middle;\n",
       "    }\n",
       "\n",
       "    .dataframe tbody tr th {\n",
       "        vertical-align: top;\n",
       "    }\n",
       "\n",
       "    .dataframe thead th {\n",
       "        text-align: right;\n",
       "    }\n",
       "</style>\n",
       "<table border=\"1\" class=\"dataframe\">\n",
       "  <thead>\n",
       "    <tr style=\"text-align: right;\">\n",
       "      <th></th>\n",
       "      <th>Unnamed: 0</th>\n",
       "      <th>target_id</th>\n",
       "      <th>WT1</th>\n",
       "      <th>WT2</th>\n",
       "      <th>WT3</th>\n",
       "      <th>Treat1</th>\n",
       "      <th>Treat2</th>\n",
       "      <th>Treat3</th>\n",
       "      <th>Treat4</th>\n",
       "      <th>Treat5</th>\n",
       "      <th>Treat6</th>\n",
       "    </tr>\n",
       "  </thead>\n",
       "  <tbody>\n",
       "    <tr>\n",
       "      <th>0</th>\n",
       "      <td>0</td>\n",
       "      <td>ENSMUST00000177564.1</td>\n",
       "      <td>0.0</td>\n",
       "      <td>0.0</td>\n",
       "      <td>0.0</td>\n",
       "      <td>0.0</td>\n",
       "      <td>0.0</td>\n",
       "      <td>0.0</td>\n",
       "      <td>0.0</td>\n",
       "      <td>0.0</td>\n",
       "      <td>0.0</td>\n",
       "    </tr>\n",
       "    <tr>\n",
       "      <th>1</th>\n",
       "      <td>1</td>\n",
       "      <td>ENSMUST00000196221.1</td>\n",
       "      <td>0.0</td>\n",
       "      <td>0.0</td>\n",
       "      <td>0.0</td>\n",
       "      <td>0.0</td>\n",
       "      <td>0.0</td>\n",
       "      <td>0.0</td>\n",
       "      <td>0.0</td>\n",
       "      <td>0.0</td>\n",
       "      <td>0.0</td>\n",
       "    </tr>\n",
       "    <tr>\n",
       "      <th>2</th>\n",
       "      <td>2</td>\n",
       "      <td>ENSMUST00000179664.1</td>\n",
       "      <td>0.0</td>\n",
       "      <td>0.0</td>\n",
       "      <td>0.0</td>\n",
       "      <td>0.0</td>\n",
       "      <td>0.0</td>\n",
       "      <td>0.0</td>\n",
       "      <td>0.0</td>\n",
       "      <td>0.0</td>\n",
       "      <td>0.0</td>\n",
       "    </tr>\n",
       "    <tr>\n",
       "      <th>3</th>\n",
       "      <td>3</td>\n",
       "      <td>ENSMUST00000178537.1</td>\n",
       "      <td>0.0</td>\n",
       "      <td>0.0</td>\n",
       "      <td>0.0</td>\n",
       "      <td>0.0</td>\n",
       "      <td>0.0</td>\n",
       "      <td>0.0</td>\n",
       "      <td>0.0</td>\n",
       "      <td>0.0</td>\n",
       "      <td>0.0</td>\n",
       "    </tr>\n",
       "    <tr>\n",
       "      <th>4</th>\n",
       "      <td>4</td>\n",
       "      <td>ENSMUST00000178862.1</td>\n",
       "      <td>0.0</td>\n",
       "      <td>0.0</td>\n",
       "      <td>0.0</td>\n",
       "      <td>0.0</td>\n",
       "      <td>0.0</td>\n",
       "      <td>0.0</td>\n",
       "      <td>0.0</td>\n",
       "      <td>0.0</td>\n",
       "      <td>0.0</td>\n",
       "    </tr>\n",
       "    <tr>\n",
       "      <th>...</th>\n",
       "      <td>...</td>\n",
       "      <td>...</td>\n",
       "      <td>...</td>\n",
       "      <td>...</td>\n",
       "      <td>...</td>\n",
       "      <td>...</td>\n",
       "      <td>...</td>\n",
       "      <td>...</td>\n",
       "      <td>...</td>\n",
       "      <td>...</td>\n",
       "      <td>...</td>\n",
       "    </tr>\n",
       "    <tr>\n",
       "      <th>109277</th>\n",
       "      <td>109277</td>\n",
       "      <td>ENSMUST00000181902.2</td>\n",
       "      <td>0.0</td>\n",
       "      <td>0.0</td>\n",
       "      <td>0.0</td>\n",
       "      <td>0.0</td>\n",
       "      <td>0.0</td>\n",
       "      <td>0.0</td>\n",
       "      <td>0.0</td>\n",
       "      <td>0.0</td>\n",
       "      <td>0.0</td>\n",
       "    </tr>\n",
       "    <tr>\n",
       "      <th>109278</th>\n",
       "      <td>109278</td>\n",
       "      <td>ENSMUST00000181878.2</td>\n",
       "      <td>0.0</td>\n",
       "      <td>0.0</td>\n",
       "      <td>0.0</td>\n",
       "      <td>0.0</td>\n",
       "      <td>0.0</td>\n",
       "      <td>0.0</td>\n",
       "      <td>0.0</td>\n",
       "      <td>0.0</td>\n",
       "      <td>0.0</td>\n",
       "    </tr>\n",
       "    <tr>\n",
       "      <th>109279</th>\n",
       "      <td>109279</td>\n",
       "      <td>ENSMUST00000201504.1</td>\n",
       "      <td>0.0</td>\n",
       "      <td>0.0</td>\n",
       "      <td>0.0</td>\n",
       "      <td>0.0</td>\n",
       "      <td>0.0</td>\n",
       "      <td>0.0</td>\n",
       "      <td>0.0</td>\n",
       "      <td>0.0</td>\n",
       "      <td>0.0</td>\n",
       "    </tr>\n",
       "    <tr>\n",
       "      <th>109280</th>\n",
       "      <td>109280</td>\n",
       "      <td>ENSMUST00000200975.1</td>\n",
       "      <td>0.0</td>\n",
       "      <td>0.0</td>\n",
       "      <td>0.0</td>\n",
       "      <td>0.0</td>\n",
       "      <td>0.0</td>\n",
       "      <td>0.0</td>\n",
       "      <td>0.0</td>\n",
       "      <td>0.0</td>\n",
       "      <td>0.0</td>\n",
       "    </tr>\n",
       "    <tr>\n",
       "      <th>109281</th>\n",
       "      <td>109281</td>\n",
       "      <td>ENSMUST00000202689.1</td>\n",
       "      <td>0.0</td>\n",
       "      <td>0.0</td>\n",
       "      <td>0.0</td>\n",
       "      <td>0.0</td>\n",
       "      <td>0.0</td>\n",
       "      <td>0.0</td>\n",
       "      <td>0.0</td>\n",
       "      <td>0.0</td>\n",
       "      <td>0.0</td>\n",
       "    </tr>\n",
       "  </tbody>\n",
       "</table>\n",
       "<p>109282 rows × 11 columns</p>\n",
       "</div>"
      ],
      "text/plain": [
       "        Unnamed: 0             target_id  WT1  WT2  WT3  Treat1  Treat2  \\\n",
       "0                0  ENSMUST00000177564.1  0.0  0.0  0.0     0.0     0.0   \n",
       "1                1  ENSMUST00000196221.1  0.0  0.0  0.0     0.0     0.0   \n",
       "2                2  ENSMUST00000179664.1  0.0  0.0  0.0     0.0     0.0   \n",
       "3                3  ENSMUST00000178537.1  0.0  0.0  0.0     0.0     0.0   \n",
       "4                4  ENSMUST00000178862.1  0.0  0.0  0.0     0.0     0.0   \n",
       "...            ...                   ...  ...  ...  ...     ...     ...   \n",
       "109277      109277  ENSMUST00000181902.2  0.0  0.0  0.0     0.0     0.0   \n",
       "109278      109278  ENSMUST00000181878.2  0.0  0.0  0.0     0.0     0.0   \n",
       "109279      109279  ENSMUST00000201504.1  0.0  0.0  0.0     0.0     0.0   \n",
       "109280      109280  ENSMUST00000200975.1  0.0  0.0  0.0     0.0     0.0   \n",
       "109281      109281  ENSMUST00000202689.1  0.0  0.0  0.0     0.0     0.0   \n",
       "\n",
       "        Treat3  Treat4  Treat5  Treat6  \n",
       "0          0.0     0.0     0.0     0.0  \n",
       "1          0.0     0.0     0.0     0.0  \n",
       "2          0.0     0.0     0.0     0.0  \n",
       "3          0.0     0.0     0.0     0.0  \n",
       "4          0.0     0.0     0.0     0.0  \n",
       "...        ...     ...     ...     ...  \n",
       "109277     0.0     0.0     0.0     0.0  \n",
       "109278     0.0     0.0     0.0     0.0  \n",
       "109279     0.0     0.0     0.0     0.0  \n",
       "109280     0.0     0.0     0.0     0.0  \n",
       "109281     0.0     0.0     0.0     0.0  \n",
       "\n",
       "[109282 rows x 11 columns]"
      ]
     },
     "execution_count": 23,
     "metadata": {},
     "output_type": "execute_result"
    }
   ],
   "source": [
    "df"
   ]
  },
  {
   "cell_type": "code",
   "execution_count": 26,
   "id": "0878a871",
   "metadata": {},
   "outputs": [],
   "source": [
    "for i in df.index:\n",
    "    df. loc[i, 'WT1'] +=1"
   ]
  },
  {
   "cell_type": "code",
   "execution_count": 27,
   "id": "acfa7973",
   "metadata": {},
   "outputs": [],
   "source": [
    "df['WT1']=df['WT1']. apply(lambda x: x+1)"
   ]
  },
  {
   "cell_type": "code",
   "execution_count": 28,
   "id": "bc762534",
   "metadata": {},
   "outputs": [],
   "source": [
    " df['WT1']=[i+1 for i in df['WT1']]"
   ]
  },
  {
   "cell_type": "code",
   "execution_count": 29,
   "id": "e057ab2a",
   "metadata": {},
   "outputs": [
    {
     "data": {
      "text/html": [
       "<div>\n",
       "<style scoped>\n",
       "    .dataframe tbody tr th:only-of-type {\n",
       "        vertical-align: middle;\n",
       "    }\n",
       "\n",
       "    .dataframe tbody tr th {\n",
       "        vertical-align: top;\n",
       "    }\n",
       "\n",
       "    .dataframe thead th {\n",
       "        text-align: right;\n",
       "    }\n",
       "</style>\n",
       "<table border=\"1\" class=\"dataframe\">\n",
       "  <thead>\n",
       "    <tr style=\"text-align: right;\">\n",
       "      <th></th>\n",
       "      <th>Unnamed: 0</th>\n",
       "      <th>target_id</th>\n",
       "      <th>WT1</th>\n",
       "      <th>WT2</th>\n",
       "      <th>WT3</th>\n",
       "      <th>Treat1</th>\n",
       "      <th>Treat2</th>\n",
       "      <th>Treat3</th>\n",
       "      <th>Treat4</th>\n",
       "      <th>Treat5</th>\n",
       "      <th>Treat6</th>\n",
       "    </tr>\n",
       "  </thead>\n",
       "  <tbody>\n",
       "    <tr>\n",
       "      <th>0</th>\n",
       "      <td>0</td>\n",
       "      <td>ENSMUST00000177564.1</td>\n",
       "      <td>5.0</td>\n",
       "      <td>0.0</td>\n",
       "      <td>0.0</td>\n",
       "      <td>0.0</td>\n",
       "      <td>0.0</td>\n",
       "      <td>0.0</td>\n",
       "      <td>0.0</td>\n",
       "      <td>0.0</td>\n",
       "      <td>0.0</td>\n",
       "    </tr>\n",
       "    <tr>\n",
       "      <th>1</th>\n",
       "      <td>1</td>\n",
       "      <td>ENSMUST00000196221.1</td>\n",
       "      <td>5.0</td>\n",
       "      <td>0.0</td>\n",
       "      <td>0.0</td>\n",
       "      <td>0.0</td>\n",
       "      <td>0.0</td>\n",
       "      <td>0.0</td>\n",
       "      <td>0.0</td>\n",
       "      <td>0.0</td>\n",
       "      <td>0.0</td>\n",
       "    </tr>\n",
       "    <tr>\n",
       "      <th>2</th>\n",
       "      <td>2</td>\n",
       "      <td>ENSMUST00000179664.1</td>\n",
       "      <td>5.0</td>\n",
       "      <td>0.0</td>\n",
       "      <td>0.0</td>\n",
       "      <td>0.0</td>\n",
       "      <td>0.0</td>\n",
       "      <td>0.0</td>\n",
       "      <td>0.0</td>\n",
       "      <td>0.0</td>\n",
       "      <td>0.0</td>\n",
       "    </tr>\n",
       "    <tr>\n",
       "      <th>3</th>\n",
       "      <td>3</td>\n",
       "      <td>ENSMUST00000178537.1</td>\n",
       "      <td>5.0</td>\n",
       "      <td>0.0</td>\n",
       "      <td>0.0</td>\n",
       "      <td>0.0</td>\n",
       "      <td>0.0</td>\n",
       "      <td>0.0</td>\n",
       "      <td>0.0</td>\n",
       "      <td>0.0</td>\n",
       "      <td>0.0</td>\n",
       "    </tr>\n",
       "    <tr>\n",
       "      <th>4</th>\n",
       "      <td>4</td>\n",
       "      <td>ENSMUST00000178862.1</td>\n",
       "      <td>5.0</td>\n",
       "      <td>0.0</td>\n",
       "      <td>0.0</td>\n",
       "      <td>0.0</td>\n",
       "      <td>0.0</td>\n",
       "      <td>0.0</td>\n",
       "      <td>0.0</td>\n",
       "      <td>0.0</td>\n",
       "      <td>0.0</td>\n",
       "    </tr>\n",
       "    <tr>\n",
       "      <th>...</th>\n",
       "      <td>...</td>\n",
       "      <td>...</td>\n",
       "      <td>...</td>\n",
       "      <td>...</td>\n",
       "      <td>...</td>\n",
       "      <td>...</td>\n",
       "      <td>...</td>\n",
       "      <td>...</td>\n",
       "      <td>...</td>\n",
       "      <td>...</td>\n",
       "      <td>...</td>\n",
       "    </tr>\n",
       "    <tr>\n",
       "      <th>109277</th>\n",
       "      <td>109277</td>\n",
       "      <td>ENSMUST00000181902.2</td>\n",
       "      <td>5.0</td>\n",
       "      <td>0.0</td>\n",
       "      <td>0.0</td>\n",
       "      <td>0.0</td>\n",
       "      <td>0.0</td>\n",
       "      <td>0.0</td>\n",
       "      <td>0.0</td>\n",
       "      <td>0.0</td>\n",
       "      <td>0.0</td>\n",
       "    </tr>\n",
       "    <tr>\n",
       "      <th>109278</th>\n",
       "      <td>109278</td>\n",
       "      <td>ENSMUST00000181878.2</td>\n",
       "      <td>5.0</td>\n",
       "      <td>0.0</td>\n",
       "      <td>0.0</td>\n",
       "      <td>0.0</td>\n",
       "      <td>0.0</td>\n",
       "      <td>0.0</td>\n",
       "      <td>0.0</td>\n",
       "      <td>0.0</td>\n",
       "      <td>0.0</td>\n",
       "    </tr>\n",
       "    <tr>\n",
       "      <th>109279</th>\n",
       "      <td>109279</td>\n",
       "      <td>ENSMUST00000201504.1</td>\n",
       "      <td>5.0</td>\n",
       "      <td>0.0</td>\n",
       "      <td>0.0</td>\n",
       "      <td>0.0</td>\n",
       "      <td>0.0</td>\n",
       "      <td>0.0</td>\n",
       "      <td>0.0</td>\n",
       "      <td>0.0</td>\n",
       "      <td>0.0</td>\n",
       "    </tr>\n",
       "    <tr>\n",
       "      <th>109280</th>\n",
       "      <td>109280</td>\n",
       "      <td>ENSMUST00000200975.1</td>\n",
       "      <td>5.0</td>\n",
       "      <td>0.0</td>\n",
       "      <td>0.0</td>\n",
       "      <td>0.0</td>\n",
       "      <td>0.0</td>\n",
       "      <td>0.0</td>\n",
       "      <td>0.0</td>\n",
       "      <td>0.0</td>\n",
       "      <td>0.0</td>\n",
       "    </tr>\n",
       "    <tr>\n",
       "      <th>109281</th>\n",
       "      <td>109281</td>\n",
       "      <td>ENSMUST00000202689.1</td>\n",
       "      <td>5.0</td>\n",
       "      <td>0.0</td>\n",
       "      <td>0.0</td>\n",
       "      <td>0.0</td>\n",
       "      <td>0.0</td>\n",
       "      <td>0.0</td>\n",
       "      <td>0.0</td>\n",
       "      <td>0.0</td>\n",
       "      <td>0.0</td>\n",
       "    </tr>\n",
       "  </tbody>\n",
       "</table>\n",
       "<p>109282 rows × 11 columns</p>\n",
       "</div>"
      ],
      "text/plain": [
       "        Unnamed: 0             target_id  WT1  WT2  WT3  Treat1  Treat2  \\\n",
       "0                0  ENSMUST00000177564.1  5.0  0.0  0.0     0.0     0.0   \n",
       "1                1  ENSMUST00000196221.1  5.0  0.0  0.0     0.0     0.0   \n",
       "2                2  ENSMUST00000179664.1  5.0  0.0  0.0     0.0     0.0   \n",
       "3                3  ENSMUST00000178537.1  5.0  0.0  0.0     0.0     0.0   \n",
       "4                4  ENSMUST00000178862.1  5.0  0.0  0.0     0.0     0.0   \n",
       "...            ...                   ...  ...  ...  ...     ...     ...   \n",
       "109277      109277  ENSMUST00000181902.2  5.0  0.0  0.0     0.0     0.0   \n",
       "109278      109278  ENSMUST00000181878.2  5.0  0.0  0.0     0.0     0.0   \n",
       "109279      109279  ENSMUST00000201504.1  5.0  0.0  0.0     0.0     0.0   \n",
       "109280      109280  ENSMUST00000200975.1  5.0  0.0  0.0     0.0     0.0   \n",
       "109281      109281  ENSMUST00000202689.1  5.0  0.0  0.0     0.0     0.0   \n",
       "\n",
       "        Treat3  Treat4  Treat5  Treat6  \n",
       "0          0.0     0.0     0.0     0.0  \n",
       "1          0.0     0.0     0.0     0.0  \n",
       "2          0.0     0.0     0.0     0.0  \n",
       "3          0.0     0.0     0.0     0.0  \n",
       "4          0.0     0.0     0.0     0.0  \n",
       "...        ...     ...     ...     ...  \n",
       "109277     0.0     0.0     0.0     0.0  \n",
       "109278     0.0     0.0     0.0     0.0  \n",
       "109279     0.0     0.0     0.0     0.0  \n",
       "109280     0.0     0.0     0.0     0.0  \n",
       "109281     0.0     0.0     0.0     0.0  \n",
       "\n",
       "[109282 rows x 11 columns]"
      ]
     },
     "execution_count": 29,
     "metadata": {},
     "output_type": "execute_result"
    }
   ],
   "source": [
    "df"
   ]
  },
  {
   "cell_type": "markdown",
   "id": "963c5481",
   "metadata": {},
   "source": [
    "## lambda 함수\n",
    "* lambda x: 형식으로 이동\n",
    "* 불특정 대상 x를 의미\n",
    "* df['WT1']. apply(lambda x: x+1)식으로 사용할 경우 pandas Serial로 반환됨\n",
    "* (lambda x: x+1)(456)식으로 사용할 경우 int로 반환됨\n",
    "* 위 예시를 제외한 방법으로 list-like object를 만들어보자"
   ]
  },
  {
   "cell_type": "code",
   "execution_count": 30,
   "id": "cf54e3a2",
   "metadata": {},
   "outputs": [],
   "source": [
    "df['WT1']=df['WT1']. apply(lambda x: x+1)"
   ]
  },
  {
   "cell_type": "code",
   "execution_count": 31,
   "id": "3bb33dec",
   "metadata": {},
   "outputs": [
    {
     "data": {
      "text/plain": [
       "457"
      ]
     },
     "execution_count": 31,
     "metadata": {},
     "output_type": "execute_result"
    }
   ],
   "source": [
    "(lambda x: x+1)(456)"
   ]
  },
  {
   "cell_type": "code",
   "execution_count": 35,
   "id": "aad56e85",
   "metadata": {},
   "outputs": [],
   "source": [
    "res=[]\n",
    "\n",
    "for i in range(10):\n",
    "    res. append((lambda x:x+1)(i))"
   ]
  },
  {
   "cell_type": "code",
   "execution_count": 36,
   "id": "64a03db5",
   "metadata": {},
   "outputs": [
    {
     "data": {
      "text/plain": [
       "[1, 2, 3, 4, 5, 6, 7, 8, 9, 10]"
      ]
     },
     "execution_count": 36,
     "metadata": {},
     "output_type": "execute_result"
    }
   ],
   "source": [
    "res"
   ]
  },
  {
   "cell_type": "code",
   "execution_count": null,
   "id": "aca2e06a",
   "metadata": {},
   "outputs": [],
   "source": [
    "[(lambda x: print(1) if x>0 else0)(i)"
   ]
  },
  {
   "cell_type": "code",
   "execution_count": 37,
   "id": "719d0ee6",
   "metadata": {},
   "outputs": [
    {
     "data": {
      "text/html": [
       "<div>\n",
       "<style scoped>\n",
       "    .dataframe tbody tr th:only-of-type {\n",
       "        vertical-align: middle;\n",
       "    }\n",
       "\n",
       "    .dataframe tbody tr th {\n",
       "        vertical-align: top;\n",
       "    }\n",
       "\n",
       "    .dataframe thead th {\n",
       "        text-align: right;\n",
       "    }\n",
       "</style>\n",
       "<table border=\"1\" class=\"dataframe\">\n",
       "  <thead>\n",
       "    <tr style=\"text-align: right;\">\n",
       "      <th></th>\n",
       "      <th>Unnamed: 0</th>\n",
       "      <th>target_id</th>\n",
       "      <th>WT1</th>\n",
       "      <th>WT2</th>\n",
       "      <th>WT3</th>\n",
       "      <th>Treat1</th>\n",
       "      <th>Treat2</th>\n",
       "      <th>Treat3</th>\n",
       "      <th>Treat4</th>\n",
       "      <th>Treat5</th>\n",
       "      <th>Treat6</th>\n",
       "    </tr>\n",
       "  </thead>\n",
       "  <tbody>\n",
       "    <tr>\n",
       "      <th>0</th>\n",
       "      <td>0</td>\n",
       "      <td>ENSMUST00000177564.1</td>\n",
       "      <td>6.0</td>\n",
       "      <td>0.0</td>\n",
       "      <td>0.0</td>\n",
       "      <td>0.0</td>\n",
       "      <td>0.0</td>\n",
       "      <td>0.0</td>\n",
       "      <td>0.0</td>\n",
       "      <td>0.0</td>\n",
       "      <td>0.0</td>\n",
       "    </tr>\n",
       "    <tr>\n",
       "      <th>1</th>\n",
       "      <td>1</td>\n",
       "      <td>ENSMUST00000196221.1</td>\n",
       "      <td>6.0</td>\n",
       "      <td>0.0</td>\n",
       "      <td>0.0</td>\n",
       "      <td>0.0</td>\n",
       "      <td>0.0</td>\n",
       "      <td>0.0</td>\n",
       "      <td>0.0</td>\n",
       "      <td>0.0</td>\n",
       "      <td>0.0</td>\n",
       "    </tr>\n",
       "    <tr>\n",
       "      <th>2</th>\n",
       "      <td>2</td>\n",
       "      <td>ENSMUST00000179664.1</td>\n",
       "      <td>6.0</td>\n",
       "      <td>0.0</td>\n",
       "      <td>0.0</td>\n",
       "      <td>0.0</td>\n",
       "      <td>0.0</td>\n",
       "      <td>0.0</td>\n",
       "      <td>0.0</td>\n",
       "      <td>0.0</td>\n",
       "      <td>0.0</td>\n",
       "    </tr>\n",
       "    <tr>\n",
       "      <th>3</th>\n",
       "      <td>3</td>\n",
       "      <td>ENSMUST00000178537.1</td>\n",
       "      <td>6.0</td>\n",
       "      <td>0.0</td>\n",
       "      <td>0.0</td>\n",
       "      <td>0.0</td>\n",
       "      <td>0.0</td>\n",
       "      <td>0.0</td>\n",
       "      <td>0.0</td>\n",
       "      <td>0.0</td>\n",
       "      <td>0.0</td>\n",
       "    </tr>\n",
       "    <tr>\n",
       "      <th>4</th>\n",
       "      <td>4</td>\n",
       "      <td>ENSMUST00000178862.1</td>\n",
       "      <td>6.0</td>\n",
       "      <td>0.0</td>\n",
       "      <td>0.0</td>\n",
       "      <td>0.0</td>\n",
       "      <td>0.0</td>\n",
       "      <td>0.0</td>\n",
       "      <td>0.0</td>\n",
       "      <td>0.0</td>\n",
       "      <td>0.0</td>\n",
       "    </tr>\n",
       "    <tr>\n",
       "      <th>...</th>\n",
       "      <td>...</td>\n",
       "      <td>...</td>\n",
       "      <td>...</td>\n",
       "      <td>...</td>\n",
       "      <td>...</td>\n",
       "      <td>...</td>\n",
       "      <td>...</td>\n",
       "      <td>...</td>\n",
       "      <td>...</td>\n",
       "      <td>...</td>\n",
       "      <td>...</td>\n",
       "    </tr>\n",
       "    <tr>\n",
       "      <th>109277</th>\n",
       "      <td>109277</td>\n",
       "      <td>ENSMUST00000181902.2</td>\n",
       "      <td>6.0</td>\n",
       "      <td>0.0</td>\n",
       "      <td>0.0</td>\n",
       "      <td>0.0</td>\n",
       "      <td>0.0</td>\n",
       "      <td>0.0</td>\n",
       "      <td>0.0</td>\n",
       "      <td>0.0</td>\n",
       "      <td>0.0</td>\n",
       "    </tr>\n",
       "    <tr>\n",
       "      <th>109278</th>\n",
       "      <td>109278</td>\n",
       "      <td>ENSMUST00000181878.2</td>\n",
       "      <td>6.0</td>\n",
       "      <td>0.0</td>\n",
       "      <td>0.0</td>\n",
       "      <td>0.0</td>\n",
       "      <td>0.0</td>\n",
       "      <td>0.0</td>\n",
       "      <td>0.0</td>\n",
       "      <td>0.0</td>\n",
       "      <td>0.0</td>\n",
       "    </tr>\n",
       "    <tr>\n",
       "      <th>109279</th>\n",
       "      <td>109279</td>\n",
       "      <td>ENSMUST00000201504.1</td>\n",
       "      <td>6.0</td>\n",
       "      <td>0.0</td>\n",
       "      <td>0.0</td>\n",
       "      <td>0.0</td>\n",
       "      <td>0.0</td>\n",
       "      <td>0.0</td>\n",
       "      <td>0.0</td>\n",
       "      <td>0.0</td>\n",
       "      <td>0.0</td>\n",
       "    </tr>\n",
       "    <tr>\n",
       "      <th>109280</th>\n",
       "      <td>109280</td>\n",
       "      <td>ENSMUST00000200975.1</td>\n",
       "      <td>6.0</td>\n",
       "      <td>0.0</td>\n",
       "      <td>0.0</td>\n",
       "      <td>0.0</td>\n",
       "      <td>0.0</td>\n",
       "      <td>0.0</td>\n",
       "      <td>0.0</td>\n",
       "      <td>0.0</td>\n",
       "      <td>0.0</td>\n",
       "    </tr>\n",
       "    <tr>\n",
       "      <th>109281</th>\n",
       "      <td>109281</td>\n",
       "      <td>ENSMUST00000202689.1</td>\n",
       "      <td>6.0</td>\n",
       "      <td>0.0</td>\n",
       "      <td>0.0</td>\n",
       "      <td>0.0</td>\n",
       "      <td>0.0</td>\n",
       "      <td>0.0</td>\n",
       "      <td>0.0</td>\n",
       "      <td>0.0</td>\n",
       "      <td>0.0</td>\n",
       "    </tr>\n",
       "  </tbody>\n",
       "</table>\n",
       "<p>109282 rows × 11 columns</p>\n",
       "</div>"
      ],
      "text/plain": [
       "        Unnamed: 0             target_id  WT1  WT2  WT3  Treat1  Treat2  \\\n",
       "0                0  ENSMUST00000177564.1  6.0  0.0  0.0     0.0     0.0   \n",
       "1                1  ENSMUST00000196221.1  6.0  0.0  0.0     0.0     0.0   \n",
       "2                2  ENSMUST00000179664.1  6.0  0.0  0.0     0.0     0.0   \n",
       "3                3  ENSMUST00000178537.1  6.0  0.0  0.0     0.0     0.0   \n",
       "4                4  ENSMUST00000178862.1  6.0  0.0  0.0     0.0     0.0   \n",
       "...            ...                   ...  ...  ...  ...     ...     ...   \n",
       "109277      109277  ENSMUST00000181902.2  6.0  0.0  0.0     0.0     0.0   \n",
       "109278      109278  ENSMUST00000181878.2  6.0  0.0  0.0     0.0     0.0   \n",
       "109279      109279  ENSMUST00000201504.1  6.0  0.0  0.0     0.0     0.0   \n",
       "109280      109280  ENSMUST00000200975.1  6.0  0.0  0.0     0.0     0.0   \n",
       "109281      109281  ENSMUST00000202689.1  6.0  0.0  0.0     0.0     0.0   \n",
       "\n",
       "        Treat3  Treat4  Treat5  Treat6  \n",
       "0          0.0     0.0     0.0     0.0  \n",
       "1          0.0     0.0     0.0     0.0  \n",
       "2          0.0     0.0     0.0     0.0  \n",
       "3          0.0     0.0     0.0     0.0  \n",
       "4          0.0     0.0     0.0     0.0  \n",
       "...        ...     ...     ...     ...  \n",
       "109277     0.0     0.0     0.0     0.0  \n",
       "109278     0.0     0.0     0.0     0.0  \n",
       "109279     0.0     0.0     0.0     0.0  \n",
       "109280     0.0     0.0     0.0     0.0  \n",
       "109281     0.0     0.0     0.0     0.0  \n",
       "\n",
       "[109282 rows x 11 columns]"
      ]
     },
     "execution_count": 37,
     "metadata": {},
     "output_type": "execute_result"
    }
   ],
   "source": [
    "df"
   ]
  },
  {
   "cell_type": "code",
   "execution_count": 42,
   "id": "23a58e27",
   "metadata": {},
   "outputs": [],
   "source": [
    "def func_apply(x):\n",
    "    if x>0:\n",
    "        return 123\n",
    "    else:\n",
    "        return 456"
   ]
  },
  {
   "cell_type": "code",
   "execution_count": 43,
   "id": "2821c181",
   "metadata": {},
   "outputs": [
    {
     "data": {
      "text/plain": [
       "0         123\n",
       "1         123\n",
       "2         123\n",
       "3         123\n",
       "4         123\n",
       "         ... \n",
       "109277    123\n",
       "109278    123\n",
       "109279    123\n",
       "109280    123\n",
       "109281    123\n",
       "Name: WT1, Length: 109282, dtype: int64"
      ]
     },
     "execution_count": 43,
     "metadata": {},
     "output_type": "execute_result"
    }
   ],
   "source": [
    "df['WT1']. apply(lambda x: func_apply(x))"
   ]
  },
  {
   "cell_type": "code",
   "execution_count": 44,
   "id": "d5fa2825",
   "metadata": {},
   "outputs": [
    {
     "data": {
      "text/html": [
       "<div>\n",
       "<style scoped>\n",
       "    .dataframe tbody tr th:only-of-type {\n",
       "        vertical-align: middle;\n",
       "    }\n",
       "\n",
       "    .dataframe tbody tr th {\n",
       "        vertical-align: top;\n",
       "    }\n",
       "\n",
       "    .dataframe thead th {\n",
       "        text-align: right;\n",
       "    }\n",
       "</style>\n",
       "<table border=\"1\" class=\"dataframe\">\n",
       "  <thead>\n",
       "    <tr style=\"text-align: right;\">\n",
       "      <th></th>\n",
       "      <th>Unnamed: 0</th>\n",
       "      <th>target_id</th>\n",
       "      <th>WT1</th>\n",
       "      <th>WT2</th>\n",
       "      <th>WT3</th>\n",
       "      <th>Treat1</th>\n",
       "      <th>Treat2</th>\n",
       "      <th>Treat3</th>\n",
       "      <th>Treat4</th>\n",
       "      <th>Treat5</th>\n",
       "      <th>Treat6</th>\n",
       "    </tr>\n",
       "  </thead>\n",
       "  <tbody>\n",
       "    <tr>\n",
       "      <th>0</th>\n",
       "      <td>0</td>\n",
       "      <td>ENSMUST00000177564.1</td>\n",
       "      <td>6.0</td>\n",
       "      <td>0.0</td>\n",
       "      <td>0.0</td>\n",
       "      <td>0.0</td>\n",
       "      <td>0.0</td>\n",
       "      <td>0.0</td>\n",
       "      <td>0.0</td>\n",
       "      <td>0.0</td>\n",
       "      <td>0.0</td>\n",
       "    </tr>\n",
       "    <tr>\n",
       "      <th>1</th>\n",
       "      <td>1</td>\n",
       "      <td>ENSMUST00000196221.1</td>\n",
       "      <td>6.0</td>\n",
       "      <td>0.0</td>\n",
       "      <td>0.0</td>\n",
       "      <td>0.0</td>\n",
       "      <td>0.0</td>\n",
       "      <td>0.0</td>\n",
       "      <td>0.0</td>\n",
       "      <td>0.0</td>\n",
       "      <td>0.0</td>\n",
       "    </tr>\n",
       "    <tr>\n",
       "      <th>2</th>\n",
       "      <td>2</td>\n",
       "      <td>ENSMUST00000179664.1</td>\n",
       "      <td>6.0</td>\n",
       "      <td>0.0</td>\n",
       "      <td>0.0</td>\n",
       "      <td>0.0</td>\n",
       "      <td>0.0</td>\n",
       "      <td>0.0</td>\n",
       "      <td>0.0</td>\n",
       "      <td>0.0</td>\n",
       "      <td>0.0</td>\n",
       "    </tr>\n",
       "    <tr>\n",
       "      <th>3</th>\n",
       "      <td>3</td>\n",
       "      <td>ENSMUST00000178537.1</td>\n",
       "      <td>6.0</td>\n",
       "      <td>0.0</td>\n",
       "      <td>0.0</td>\n",
       "      <td>0.0</td>\n",
       "      <td>0.0</td>\n",
       "      <td>0.0</td>\n",
       "      <td>0.0</td>\n",
       "      <td>0.0</td>\n",
       "      <td>0.0</td>\n",
       "    </tr>\n",
       "    <tr>\n",
       "      <th>4</th>\n",
       "      <td>4</td>\n",
       "      <td>ENSMUST00000178862.1</td>\n",
       "      <td>6.0</td>\n",
       "      <td>0.0</td>\n",
       "      <td>0.0</td>\n",
       "      <td>0.0</td>\n",
       "      <td>0.0</td>\n",
       "      <td>0.0</td>\n",
       "      <td>0.0</td>\n",
       "      <td>0.0</td>\n",
       "      <td>0.0</td>\n",
       "    </tr>\n",
       "    <tr>\n",
       "      <th>...</th>\n",
       "      <td>...</td>\n",
       "      <td>...</td>\n",
       "      <td>...</td>\n",
       "      <td>...</td>\n",
       "      <td>...</td>\n",
       "      <td>...</td>\n",
       "      <td>...</td>\n",
       "      <td>...</td>\n",
       "      <td>...</td>\n",
       "      <td>...</td>\n",
       "      <td>...</td>\n",
       "    </tr>\n",
       "    <tr>\n",
       "      <th>109277</th>\n",
       "      <td>109277</td>\n",
       "      <td>ENSMUST00000181902.2</td>\n",
       "      <td>6.0</td>\n",
       "      <td>0.0</td>\n",
       "      <td>0.0</td>\n",
       "      <td>0.0</td>\n",
       "      <td>0.0</td>\n",
       "      <td>0.0</td>\n",
       "      <td>0.0</td>\n",
       "      <td>0.0</td>\n",
       "      <td>0.0</td>\n",
       "    </tr>\n",
       "    <tr>\n",
       "      <th>109278</th>\n",
       "      <td>109278</td>\n",
       "      <td>ENSMUST00000181878.2</td>\n",
       "      <td>6.0</td>\n",
       "      <td>0.0</td>\n",
       "      <td>0.0</td>\n",
       "      <td>0.0</td>\n",
       "      <td>0.0</td>\n",
       "      <td>0.0</td>\n",
       "      <td>0.0</td>\n",
       "      <td>0.0</td>\n",
       "      <td>0.0</td>\n",
       "    </tr>\n",
       "    <tr>\n",
       "      <th>109279</th>\n",
       "      <td>109279</td>\n",
       "      <td>ENSMUST00000201504.1</td>\n",
       "      <td>6.0</td>\n",
       "      <td>0.0</td>\n",
       "      <td>0.0</td>\n",
       "      <td>0.0</td>\n",
       "      <td>0.0</td>\n",
       "      <td>0.0</td>\n",
       "      <td>0.0</td>\n",
       "      <td>0.0</td>\n",
       "      <td>0.0</td>\n",
       "    </tr>\n",
       "    <tr>\n",
       "      <th>109280</th>\n",
       "      <td>109280</td>\n",
       "      <td>ENSMUST00000200975.1</td>\n",
       "      <td>6.0</td>\n",
       "      <td>0.0</td>\n",
       "      <td>0.0</td>\n",
       "      <td>0.0</td>\n",
       "      <td>0.0</td>\n",
       "      <td>0.0</td>\n",
       "      <td>0.0</td>\n",
       "      <td>0.0</td>\n",
       "      <td>0.0</td>\n",
       "    </tr>\n",
       "    <tr>\n",
       "      <th>109281</th>\n",
       "      <td>109281</td>\n",
       "      <td>ENSMUST00000202689.1</td>\n",
       "      <td>6.0</td>\n",
       "      <td>0.0</td>\n",
       "      <td>0.0</td>\n",
       "      <td>0.0</td>\n",
       "      <td>0.0</td>\n",
       "      <td>0.0</td>\n",
       "      <td>0.0</td>\n",
       "      <td>0.0</td>\n",
       "      <td>0.0</td>\n",
       "    </tr>\n",
       "  </tbody>\n",
       "</table>\n",
       "<p>109282 rows × 11 columns</p>\n",
       "</div>"
      ],
      "text/plain": [
       "        Unnamed: 0             target_id  WT1  WT2  WT3  Treat1  Treat2  \\\n",
       "0                0  ENSMUST00000177564.1  6.0  0.0  0.0     0.0     0.0   \n",
       "1                1  ENSMUST00000196221.1  6.0  0.0  0.0     0.0     0.0   \n",
       "2                2  ENSMUST00000179664.1  6.0  0.0  0.0     0.0     0.0   \n",
       "3                3  ENSMUST00000178537.1  6.0  0.0  0.0     0.0     0.0   \n",
       "4                4  ENSMUST00000178862.1  6.0  0.0  0.0     0.0     0.0   \n",
       "...            ...                   ...  ...  ...  ...     ...     ...   \n",
       "109277      109277  ENSMUST00000181902.2  6.0  0.0  0.0     0.0     0.0   \n",
       "109278      109278  ENSMUST00000181878.2  6.0  0.0  0.0     0.0     0.0   \n",
       "109279      109279  ENSMUST00000201504.1  6.0  0.0  0.0     0.0     0.0   \n",
       "109280      109280  ENSMUST00000200975.1  6.0  0.0  0.0     0.0     0.0   \n",
       "109281      109281  ENSMUST00000202689.1  6.0  0.0  0.0     0.0     0.0   \n",
       "\n",
       "        Treat3  Treat4  Treat5  Treat6  \n",
       "0          0.0     0.0     0.0     0.0  \n",
       "1          0.0     0.0     0.0     0.0  \n",
       "2          0.0     0.0     0.0     0.0  \n",
       "3          0.0     0.0     0.0     0.0  \n",
       "4          0.0     0.0     0.0     0.0  \n",
       "...        ...     ...     ...     ...  \n",
       "109277     0.0     0.0     0.0     0.0  \n",
       "109278     0.0     0.0     0.0     0.0  \n",
       "109279     0.0     0.0     0.0     0.0  \n",
       "109280     0.0     0.0     0.0     0.0  \n",
       "109281     0.0     0.0     0.0     0.0  \n",
       "\n",
       "[109282 rows x 11 columns]"
      ]
     },
     "execution_count": 44,
     "metadata": {},
     "output_type": "execute_result"
    }
   ],
   "source": [
    "df"
   ]
  },
  {
   "cell_type": "code",
   "execution_count": 47,
   "id": "40c27124",
   "metadata": {},
   "outputs": [
    {
     "ename": "TypeError",
     "evalue": "Index does not support mutable operations",
     "output_type": "error",
     "traceback": [
      "\u001b[1;31m---------------------------------------------------------------------------\u001b[0m",
      "\u001b[1;31mTypeError\u001b[0m                                 Traceback (most recent call last)",
      "\u001b[1;32m~\\AppData\\Local\\Temp\\ipykernel_3348\\3855063064.py\u001b[0m in \u001b[0;36m<module>\u001b[1;34m\u001b[0m\n\u001b[1;32m----> 1\u001b[1;33m \u001b[0mdf\u001b[0m\u001b[1;33m.\u001b[0m \u001b[0mcolumns\u001b[0m\u001b[1;33m[\u001b[0m\u001b[1;36m1\u001b[0m\u001b[1;33m]\u001b[0m\u001b[1;33m=\u001b[0m\u001b[1;34m'asdf'\u001b[0m\u001b[1;33m\u001b[0m\u001b[1;33m\u001b[0m\u001b[0m\n\u001b[0m",
      "\u001b[1;32mC:\\ProgramData\\Anaconda3\\lib\\site-packages\\pandas\\core\\indexes\\base.py\u001b[0m in \u001b[0;36m__setitem__\u001b[1;34m(self, key, value)\u001b[0m\n\u001b[0;32m   5033\u001b[0m     \u001b[1;33m@\u001b[0m\u001b[0mfinal\u001b[0m\u001b[1;33m\u001b[0m\u001b[1;33m\u001b[0m\u001b[0m\n\u001b[0;32m   5034\u001b[0m     \u001b[1;32mdef\u001b[0m \u001b[0m__setitem__\u001b[0m\u001b[1;33m(\u001b[0m\u001b[0mself\u001b[0m\u001b[1;33m,\u001b[0m \u001b[0mkey\u001b[0m\u001b[1;33m,\u001b[0m \u001b[0mvalue\u001b[0m\u001b[1;33m)\u001b[0m\u001b[1;33m:\u001b[0m\u001b[1;33m\u001b[0m\u001b[1;33m\u001b[0m\u001b[0m\n\u001b[1;32m-> 5035\u001b[1;33m         \u001b[1;32mraise\u001b[0m \u001b[0mTypeError\u001b[0m\u001b[1;33m(\u001b[0m\u001b[1;34m\"Index does not support mutable operations\"\u001b[0m\u001b[1;33m)\u001b[0m\u001b[1;33m\u001b[0m\u001b[1;33m\u001b[0m\u001b[0m\n\u001b[0m\u001b[0;32m   5036\u001b[0m \u001b[1;33m\u001b[0m\u001b[0m\n\u001b[0;32m   5037\u001b[0m     \u001b[1;32mdef\u001b[0m \u001b[0m__getitem__\u001b[0m\u001b[1;33m(\u001b[0m\u001b[0mself\u001b[0m\u001b[1;33m,\u001b[0m \u001b[0mkey\u001b[0m\u001b[1;33m)\u001b[0m\u001b[1;33m:\u001b[0m\u001b[1;33m\u001b[0m\u001b[1;33m\u001b[0m\u001b[0m\n",
      "\u001b[1;31mTypeError\u001b[0m: Index does not support mutable operations"
     ]
    }
   ],
   "source": [
    "df. columns[1]='asdf'"
   ]
  },
  {
   "cell_type": "code",
   "execution_count": 50,
   "id": "19ab7121",
   "metadata": {},
   "outputs": [
    {
     "ename": "NameError",
     "evalue": "name 'temp_list' is not defined",
     "output_type": "error",
     "traceback": [
      "\u001b[1;31m---------------------------------------------------------------------------\u001b[0m",
      "\u001b[1;31mNameError\u001b[0m                                 Traceback (most recent call last)",
      "\u001b[1;32m~\\AppData\\Local\\Temp\\ipykernel_3348\\932357098.py\u001b[0m in \u001b[0;36m<module>\u001b[1;34m\u001b[0m\n\u001b[1;32m----> 1\u001b[1;33m \u001b[0mtemp_list\u001b[0m\u001b[1;33m[\u001b[0m\u001b[1;33m-\u001b[0m\u001b[1;36m4\u001b[0m\u001b[1;33m]\u001b[0m\u001b[1;33m=\u001b[0m\u001b[1;34m'Treat30'\u001b[0m\u001b[1;33m\u001b[0m\u001b[1;33m\u001b[0m\u001b[0m\n\u001b[0m",
      "\u001b[1;31mNameError\u001b[0m: name 'temp_list' is not defined"
     ]
    }
   ],
   "source": [
    "temp_list[-4]='Treat30'"
   ]
  },
  {
   "cell_type": "code",
   "execution_count": 48,
   "id": "fec63eb2",
   "metadata": {},
   "outputs": [
    {
     "ename": "TypeError",
     "evalue": "Index does not support mutable operations",
     "output_type": "error",
     "traceback": [
      "\u001b[1;31m---------------------------------------------------------------------------\u001b[0m",
      "\u001b[1;31mTypeError\u001b[0m                                 Traceback (most recent call last)",
      "\u001b[1;32m~\\AppData\\Local\\Temp\\ipykernel_3348\\1120794156.py\u001b[0m in \u001b[0;36m<module>\u001b[1;34m\u001b[0m\n\u001b[1;32m----> 1\u001b[1;33m \u001b[0mdf\u001b[0m\u001b[1;33m.\u001b[0m\u001b[0mcolumns\u001b[0m\u001b[1;33m[\u001b[0m\u001b[1;33m-\u001b[0m\u001b[1;36m4\u001b[0m\u001b[1;33m]\u001b[0m\u001b[1;33m=\u001b[0m\u001b[1;34m'Treat30'\u001b[0m\u001b[1;33m\u001b[0m\u001b[1;33m\u001b[0m\u001b[0m\n\u001b[0m",
      "\u001b[1;32mC:\\ProgramData\\Anaconda3\\lib\\site-packages\\pandas\\core\\indexes\\base.py\u001b[0m in \u001b[0;36m__setitem__\u001b[1;34m(self, key, value)\u001b[0m\n\u001b[0;32m   5033\u001b[0m     \u001b[1;33m@\u001b[0m\u001b[0mfinal\u001b[0m\u001b[1;33m\u001b[0m\u001b[1;33m\u001b[0m\u001b[0m\n\u001b[0;32m   5034\u001b[0m     \u001b[1;32mdef\u001b[0m \u001b[0m__setitem__\u001b[0m\u001b[1;33m(\u001b[0m\u001b[0mself\u001b[0m\u001b[1;33m,\u001b[0m \u001b[0mkey\u001b[0m\u001b[1;33m,\u001b[0m \u001b[0mvalue\u001b[0m\u001b[1;33m)\u001b[0m\u001b[1;33m:\u001b[0m\u001b[1;33m\u001b[0m\u001b[1;33m\u001b[0m\u001b[0m\n\u001b[1;32m-> 5035\u001b[1;33m         \u001b[1;32mraise\u001b[0m \u001b[0mTypeError\u001b[0m\u001b[1;33m(\u001b[0m\u001b[1;34m\"Index does not support mutable operations\"\u001b[0m\u001b[1;33m)\u001b[0m\u001b[1;33m\u001b[0m\u001b[1;33m\u001b[0m\u001b[0m\n\u001b[0m\u001b[0;32m   5036\u001b[0m \u001b[1;33m\u001b[0m\u001b[0m\n\u001b[0;32m   5037\u001b[0m     \u001b[1;32mdef\u001b[0m \u001b[0m__getitem__\u001b[0m\u001b[1;33m(\u001b[0m\u001b[0mself\u001b[0m\u001b[1;33m,\u001b[0m \u001b[0mkey\u001b[0m\u001b[1;33m)\u001b[0m\u001b[1;33m:\u001b[0m\u001b[1;33m\u001b[0m\u001b[1;33m\u001b[0m\u001b[0m\n",
      "\u001b[1;31mTypeError\u001b[0m: Index does not support mutable operations"
     ]
    }
   ],
   "source": [
    "df.columns[-4]='Treat30'"
   ]
  },
  {
   "cell_type": "code",
   "execution_count": 49,
   "id": "ad87bbe3",
   "metadata": {},
   "outputs": [
    {
     "ename": "NameError",
     "evalue": "name 'temp_list' is not defined",
     "output_type": "error",
     "traceback": [
      "\u001b[1;31m---------------------------------------------------------------------------\u001b[0m",
      "\u001b[1;31mNameError\u001b[0m                                 Traceback (most recent call last)",
      "\u001b[1;32m~\\AppData\\Local\\Temp\\ipykernel_3348\\566356672.py\u001b[0m in \u001b[0;36m<module>\u001b[1;34m\u001b[0m\n\u001b[1;32m----> 1\u001b[1;33m \u001b[0mtemp_list\u001b[0m\u001b[1;33m\u001b[0m\u001b[1;33m\u001b[0m\u001b[0m\n\u001b[0m",
      "\u001b[1;31mNameError\u001b[0m: name 'temp_list' is not defined"
     ]
    }
   ],
   "source": [
    "temp_list"
   ]
  },
  {
   "cell_type": "code",
   "execution_count": 52,
   "id": "04069b3a",
   "metadata": {},
   "outputs": [
    {
     "ename": "NameError",
     "evalue": "name 'temp_list' is not defined",
     "output_type": "error",
     "traceback": [
      "\u001b[1;31m---------------------------------------------------------------------------\u001b[0m",
      "\u001b[1;31mNameError\u001b[0m                                 Traceback (most recent call last)",
      "\u001b[1;32m~\\AppData\\Local\\Temp\\ipykernel_3348\\1904337391.py\u001b[0m in \u001b[0;36m<module>\u001b[1;34m\u001b[0m\n\u001b[1;32m----> 1\u001b[1;33m \u001b[0mdf\u001b[0m\u001b[1;33m.\u001b[0m\u001b[0mcolums\u001b[0m\u001b[1;33m=\u001b[0m\u001b[0mtemp_list\u001b[0m\u001b[1;33m\u001b[0m\u001b[1;33m\u001b[0m\u001b[0m\n\u001b[0m",
      "\u001b[1;31mNameError\u001b[0m: name 'temp_list' is not defined"
     ]
    }
   ],
   "source": [
    "df.colums=temp_list"
   ]
  },
  {
   "cell_type": "code",
   "execution_count": 54,
   "id": "6a4a5431",
   "metadata": {},
   "outputs": [
    {
     "data": {
      "text/html": [
       "<div>\n",
       "<style scoped>\n",
       "    .dataframe tbody tr th:only-of-type {\n",
       "        vertical-align: middle;\n",
       "    }\n",
       "\n",
       "    .dataframe tbody tr th {\n",
       "        vertical-align: top;\n",
       "    }\n",
       "\n",
       "    .dataframe thead th {\n",
       "        text-align: right;\n",
       "    }\n",
       "</style>\n",
       "<table border=\"1\" class=\"dataframe\">\n",
       "  <thead>\n",
       "    <tr style=\"text-align: right;\">\n",
       "      <th></th>\n",
       "      <th>Unnamed: 0</th>\n",
       "      <th>target_id</th>\n",
       "      <th>WT1</th>\n",
       "      <th>WT2</th>\n",
       "      <th>WT3</th>\n",
       "      <th>Treat1</th>\n",
       "      <th>Treat2</th>\n",
       "      <th>Treat3</th>\n",
       "      <th>Treat4</th>\n",
       "      <th>Treat5</th>\n",
       "      <th>Treat6</th>\n",
       "    </tr>\n",
       "  </thead>\n",
       "  <tbody>\n",
       "    <tr>\n",
       "      <th>0</th>\n",
       "      <td>0</td>\n",
       "      <td>ENSMUST00000177564.1</td>\n",
       "      <td>6.0</td>\n",
       "      <td>0.0</td>\n",
       "      <td>0.0</td>\n",
       "      <td>0.0</td>\n",
       "      <td>0.0</td>\n",
       "      <td>0.0</td>\n",
       "      <td>0.0</td>\n",
       "      <td>0.0</td>\n",
       "      <td>0.0</td>\n",
       "    </tr>\n",
       "    <tr>\n",
       "      <th>1</th>\n",
       "      <td>1</td>\n",
       "      <td>ENSMUST00000196221.1</td>\n",
       "      <td>6.0</td>\n",
       "      <td>0.0</td>\n",
       "      <td>0.0</td>\n",
       "      <td>0.0</td>\n",
       "      <td>0.0</td>\n",
       "      <td>0.0</td>\n",
       "      <td>0.0</td>\n",
       "      <td>0.0</td>\n",
       "      <td>0.0</td>\n",
       "    </tr>\n",
       "    <tr>\n",
       "      <th>2</th>\n",
       "      <td>2</td>\n",
       "      <td>ENSMUST00000179664.1</td>\n",
       "      <td>6.0</td>\n",
       "      <td>0.0</td>\n",
       "      <td>0.0</td>\n",
       "      <td>0.0</td>\n",
       "      <td>0.0</td>\n",
       "      <td>0.0</td>\n",
       "      <td>0.0</td>\n",
       "      <td>0.0</td>\n",
       "      <td>0.0</td>\n",
       "    </tr>\n",
       "    <tr>\n",
       "      <th>3</th>\n",
       "      <td>3</td>\n",
       "      <td>ENSMUST00000178537.1</td>\n",
       "      <td>6.0</td>\n",
       "      <td>0.0</td>\n",
       "      <td>0.0</td>\n",
       "      <td>0.0</td>\n",
       "      <td>0.0</td>\n",
       "      <td>0.0</td>\n",
       "      <td>0.0</td>\n",
       "      <td>0.0</td>\n",
       "      <td>0.0</td>\n",
       "    </tr>\n",
       "    <tr>\n",
       "      <th>4</th>\n",
       "      <td>4</td>\n",
       "      <td>ENSMUST00000178862.1</td>\n",
       "      <td>6.0</td>\n",
       "      <td>0.0</td>\n",
       "      <td>0.0</td>\n",
       "      <td>0.0</td>\n",
       "      <td>0.0</td>\n",
       "      <td>0.0</td>\n",
       "      <td>0.0</td>\n",
       "      <td>0.0</td>\n",
       "      <td>0.0</td>\n",
       "    </tr>\n",
       "    <tr>\n",
       "      <th>...</th>\n",
       "      <td>...</td>\n",
       "      <td>...</td>\n",
       "      <td>...</td>\n",
       "      <td>...</td>\n",
       "      <td>...</td>\n",
       "      <td>...</td>\n",
       "      <td>...</td>\n",
       "      <td>...</td>\n",
       "      <td>...</td>\n",
       "      <td>...</td>\n",
       "      <td>...</td>\n",
       "    </tr>\n",
       "    <tr>\n",
       "      <th>109277</th>\n",
       "      <td>109277</td>\n",
       "      <td>ENSMUST00000181902.2</td>\n",
       "      <td>6.0</td>\n",
       "      <td>0.0</td>\n",
       "      <td>0.0</td>\n",
       "      <td>0.0</td>\n",
       "      <td>0.0</td>\n",
       "      <td>0.0</td>\n",
       "      <td>0.0</td>\n",
       "      <td>0.0</td>\n",
       "      <td>0.0</td>\n",
       "    </tr>\n",
       "    <tr>\n",
       "      <th>109278</th>\n",
       "      <td>109278</td>\n",
       "      <td>ENSMUST00000181878.2</td>\n",
       "      <td>6.0</td>\n",
       "      <td>0.0</td>\n",
       "      <td>0.0</td>\n",
       "      <td>0.0</td>\n",
       "      <td>0.0</td>\n",
       "      <td>0.0</td>\n",
       "      <td>0.0</td>\n",
       "      <td>0.0</td>\n",
       "      <td>0.0</td>\n",
       "    </tr>\n",
       "    <tr>\n",
       "      <th>109279</th>\n",
       "      <td>109279</td>\n",
       "      <td>ENSMUST00000201504.1</td>\n",
       "      <td>6.0</td>\n",
       "      <td>0.0</td>\n",
       "      <td>0.0</td>\n",
       "      <td>0.0</td>\n",
       "      <td>0.0</td>\n",
       "      <td>0.0</td>\n",
       "      <td>0.0</td>\n",
       "      <td>0.0</td>\n",
       "      <td>0.0</td>\n",
       "    </tr>\n",
       "    <tr>\n",
       "      <th>109280</th>\n",
       "      <td>109280</td>\n",
       "      <td>ENSMUST00000200975.1</td>\n",
       "      <td>6.0</td>\n",
       "      <td>0.0</td>\n",
       "      <td>0.0</td>\n",
       "      <td>0.0</td>\n",
       "      <td>0.0</td>\n",
       "      <td>0.0</td>\n",
       "      <td>0.0</td>\n",
       "      <td>0.0</td>\n",
       "      <td>0.0</td>\n",
       "    </tr>\n",
       "    <tr>\n",
       "      <th>109281</th>\n",
       "      <td>109281</td>\n",
       "      <td>ENSMUST00000202689.1</td>\n",
       "      <td>6.0</td>\n",
       "      <td>0.0</td>\n",
       "      <td>0.0</td>\n",
       "      <td>0.0</td>\n",
       "      <td>0.0</td>\n",
       "      <td>0.0</td>\n",
       "      <td>0.0</td>\n",
       "      <td>0.0</td>\n",
       "      <td>0.0</td>\n",
       "    </tr>\n",
       "  </tbody>\n",
       "</table>\n",
       "<p>109282 rows × 11 columns</p>\n",
       "</div>"
      ],
      "text/plain": [
       "        Unnamed: 0             target_id  WT1  WT2  WT3  Treat1  Treat2  \\\n",
       "0                0  ENSMUST00000177564.1  6.0  0.0  0.0     0.0     0.0   \n",
       "1                1  ENSMUST00000196221.1  6.0  0.0  0.0     0.0     0.0   \n",
       "2                2  ENSMUST00000179664.1  6.0  0.0  0.0     0.0     0.0   \n",
       "3                3  ENSMUST00000178537.1  6.0  0.0  0.0     0.0     0.0   \n",
       "4                4  ENSMUST00000178862.1  6.0  0.0  0.0     0.0     0.0   \n",
       "...            ...                   ...  ...  ...  ...     ...     ...   \n",
       "109277      109277  ENSMUST00000181902.2  6.0  0.0  0.0     0.0     0.0   \n",
       "109278      109278  ENSMUST00000181878.2  6.0  0.0  0.0     0.0     0.0   \n",
       "109279      109279  ENSMUST00000201504.1  6.0  0.0  0.0     0.0     0.0   \n",
       "109280      109280  ENSMUST00000200975.1  6.0  0.0  0.0     0.0     0.0   \n",
       "109281      109281  ENSMUST00000202689.1  6.0  0.0  0.0     0.0     0.0   \n",
       "\n",
       "        Treat3  Treat4  Treat5  Treat6  \n",
       "0          0.0     0.0     0.0     0.0  \n",
       "1          0.0     0.0     0.0     0.0  \n",
       "2          0.0     0.0     0.0     0.0  \n",
       "3          0.0     0.0     0.0     0.0  \n",
       "4          0.0     0.0     0.0     0.0  \n",
       "...        ...     ...     ...     ...  \n",
       "109277     0.0     0.0     0.0     0.0  \n",
       "109278     0.0     0.0     0.0     0.0  \n",
       "109279     0.0     0.0     0.0     0.0  \n",
       "109280     0.0     0.0     0.0     0.0  \n",
       "109281     0.0     0.0     0.0     0.0  \n",
       "\n",
       "[109282 rows x 11 columns]"
      ]
     },
     "execution_count": 54,
     "metadata": {},
     "output_type": "execute_result"
    }
   ],
   "source": [
    "df.rename({'Treat30':'Treat3'}, axis=1)"
   ]
  },
  {
   "cell_type": "code",
   "execution_count": 58,
   "id": "5380319c",
   "metadata": {},
   "outputs": [
    {
     "data": {
      "text/plain": [
       "RangeIndex(start=0, stop=109282, step=1)"
      ]
     },
     "execution_count": 58,
     "metadata": {},
     "output_type": "execute_result"
    }
   ],
   "source": [
    "df.index"
   ]
  },
  {
   "cell_type": "code",
   "execution_count": 59,
   "id": "93a5f71c",
   "metadata": {},
   "outputs": [
    {
     "data": {
      "text/plain": [
       "109279"
      ]
     },
     "execution_count": 59,
     "metadata": {},
     "output_type": "execute_result"
    }
   ],
   "source": [
    "list(df. index)[109279]"
   ]
  },
  {
   "cell_type": "code",
   "execution_count": 60,
   "id": "5e5b5a9d",
   "metadata": {},
   "outputs": [
    {
     "ename": "NameError",
     "evalue": "name 'temp_list' is not defined",
     "output_type": "error",
     "traceback": [
      "\u001b[1;31m---------------------------------------------------------------------------\u001b[0m",
      "\u001b[1;31mNameError\u001b[0m                                 Traceback (most recent call last)",
      "\u001b[1;32m~\\AppData\\Local\\Temp\\ipykernel_3348\\1890113413.py\u001b[0m in \u001b[0;36m<module>\u001b[1;34m\u001b[0m\n\u001b[1;32m----> 1\u001b[1;33m \u001b[0mdf\u001b[0m\u001b[1;33m.\u001b[0m\u001b[0mindex\u001b[0m\u001b[1;33m=\u001b[0m\u001b[0mtemp_list\u001b[0m\u001b[1;33m\u001b[0m\u001b[1;33m\u001b[0m\u001b[0m\n\u001b[0m",
      "\u001b[1;31mNameError\u001b[0m: name 'temp_list' is not defined"
     ]
    }
   ],
   "source": [
    "df.index=temp_list"
   ]
  },
  {
   "cell_type": "code",
   "execution_count": 61,
   "id": "b072d414",
   "metadata": {},
   "outputs": [
    {
     "data": {
      "text/html": [
       "<div>\n",
       "<style scoped>\n",
       "    .dataframe tbody tr th:only-of-type {\n",
       "        vertical-align: middle;\n",
       "    }\n",
       "\n",
       "    .dataframe tbody tr th {\n",
       "        vertical-align: top;\n",
       "    }\n",
       "\n",
       "    .dataframe thead th {\n",
       "        text-align: right;\n",
       "    }\n",
       "</style>\n",
       "<table border=\"1\" class=\"dataframe\">\n",
       "  <thead>\n",
       "    <tr style=\"text-align: right;\">\n",
       "      <th></th>\n",
       "      <th>Unnamed: 0</th>\n",
       "      <th>target_id</th>\n",
       "      <th>WT1</th>\n",
       "      <th>WT2</th>\n",
       "      <th>WT3</th>\n",
       "      <th>Treat1</th>\n",
       "      <th>Treat2</th>\n",
       "      <th>Treat3</th>\n",
       "      <th>Treat4</th>\n",
       "      <th>Treat5</th>\n",
       "      <th>Treat6</th>\n",
       "    </tr>\n",
       "  </thead>\n",
       "  <tbody>\n",
       "    <tr>\n",
       "      <th>0</th>\n",
       "      <td>0</td>\n",
       "      <td>ENSMUST00000177564.1</td>\n",
       "      <td>6.0</td>\n",
       "      <td>0.0</td>\n",
       "      <td>0.0</td>\n",
       "      <td>0.0</td>\n",
       "      <td>0.0</td>\n",
       "      <td>0.0</td>\n",
       "      <td>0.0</td>\n",
       "      <td>0.0</td>\n",
       "      <td>0.0</td>\n",
       "    </tr>\n",
       "    <tr>\n",
       "      <th>1</th>\n",
       "      <td>1</td>\n",
       "      <td>ENSMUST00000196221.1</td>\n",
       "      <td>6.0</td>\n",
       "      <td>0.0</td>\n",
       "      <td>0.0</td>\n",
       "      <td>0.0</td>\n",
       "      <td>0.0</td>\n",
       "      <td>0.0</td>\n",
       "      <td>0.0</td>\n",
       "      <td>0.0</td>\n",
       "      <td>0.0</td>\n",
       "    </tr>\n",
       "    <tr>\n",
       "      <th>2</th>\n",
       "      <td>2</td>\n",
       "      <td>ENSMUST00000179664.1</td>\n",
       "      <td>6.0</td>\n",
       "      <td>0.0</td>\n",
       "      <td>0.0</td>\n",
       "      <td>0.0</td>\n",
       "      <td>0.0</td>\n",
       "      <td>0.0</td>\n",
       "      <td>0.0</td>\n",
       "      <td>0.0</td>\n",
       "      <td>0.0</td>\n",
       "    </tr>\n",
       "    <tr>\n",
       "      <th>3</th>\n",
       "      <td>3</td>\n",
       "      <td>ENSMUST00000178537.1</td>\n",
       "      <td>6.0</td>\n",
       "      <td>0.0</td>\n",
       "      <td>0.0</td>\n",
       "      <td>0.0</td>\n",
       "      <td>0.0</td>\n",
       "      <td>0.0</td>\n",
       "      <td>0.0</td>\n",
       "      <td>0.0</td>\n",
       "      <td>0.0</td>\n",
       "    </tr>\n",
       "    <tr>\n",
       "      <th>4</th>\n",
       "      <td>4</td>\n",
       "      <td>ENSMUST00000178862.1</td>\n",
       "      <td>6.0</td>\n",
       "      <td>0.0</td>\n",
       "      <td>0.0</td>\n",
       "      <td>0.0</td>\n",
       "      <td>0.0</td>\n",
       "      <td>0.0</td>\n",
       "      <td>0.0</td>\n",
       "      <td>0.0</td>\n",
       "      <td>0.0</td>\n",
       "    </tr>\n",
       "    <tr>\n",
       "      <th>...</th>\n",
       "      <td>...</td>\n",
       "      <td>...</td>\n",
       "      <td>...</td>\n",
       "      <td>...</td>\n",
       "      <td>...</td>\n",
       "      <td>...</td>\n",
       "      <td>...</td>\n",
       "      <td>...</td>\n",
       "      <td>...</td>\n",
       "      <td>...</td>\n",
       "      <td>...</td>\n",
       "    </tr>\n",
       "    <tr>\n",
       "      <th>109277</th>\n",
       "      <td>109277</td>\n",
       "      <td>ENSMUST00000181902.2</td>\n",
       "      <td>6.0</td>\n",
       "      <td>0.0</td>\n",
       "      <td>0.0</td>\n",
       "      <td>0.0</td>\n",
       "      <td>0.0</td>\n",
       "      <td>0.0</td>\n",
       "      <td>0.0</td>\n",
       "      <td>0.0</td>\n",
       "      <td>0.0</td>\n",
       "    </tr>\n",
       "    <tr>\n",
       "      <th>109278</th>\n",
       "      <td>109278</td>\n",
       "      <td>ENSMUST00000181878.2</td>\n",
       "      <td>6.0</td>\n",
       "      <td>0.0</td>\n",
       "      <td>0.0</td>\n",
       "      <td>0.0</td>\n",
       "      <td>0.0</td>\n",
       "      <td>0.0</td>\n",
       "      <td>0.0</td>\n",
       "      <td>0.0</td>\n",
       "      <td>0.0</td>\n",
       "    </tr>\n",
       "    <tr>\n",
       "      <th>109279</th>\n",
       "      <td>109279</td>\n",
       "      <td>ENSMUST00000201504.1</td>\n",
       "      <td>6.0</td>\n",
       "      <td>0.0</td>\n",
       "      <td>0.0</td>\n",
       "      <td>0.0</td>\n",
       "      <td>0.0</td>\n",
       "      <td>0.0</td>\n",
       "      <td>0.0</td>\n",
       "      <td>0.0</td>\n",
       "      <td>0.0</td>\n",
       "    </tr>\n",
       "    <tr>\n",
       "      <th>109280</th>\n",
       "      <td>109280</td>\n",
       "      <td>ENSMUST00000200975.1</td>\n",
       "      <td>6.0</td>\n",
       "      <td>0.0</td>\n",
       "      <td>0.0</td>\n",
       "      <td>0.0</td>\n",
       "      <td>0.0</td>\n",
       "      <td>0.0</td>\n",
       "      <td>0.0</td>\n",
       "      <td>0.0</td>\n",
       "      <td>0.0</td>\n",
       "    </tr>\n",
       "    <tr>\n",
       "      <th>109281</th>\n",
       "      <td>109281</td>\n",
       "      <td>ENSMUST00000202689.1</td>\n",
       "      <td>6.0</td>\n",
       "      <td>0.0</td>\n",
       "      <td>0.0</td>\n",
       "      <td>0.0</td>\n",
       "      <td>0.0</td>\n",
       "      <td>0.0</td>\n",
       "      <td>0.0</td>\n",
       "      <td>0.0</td>\n",
       "      <td>0.0</td>\n",
       "    </tr>\n",
       "  </tbody>\n",
       "</table>\n",
       "<p>109282 rows × 11 columns</p>\n",
       "</div>"
      ],
      "text/plain": [
       "        Unnamed: 0             target_id  WT1  WT2  WT3  Treat1  Treat2  \\\n",
       "0                0  ENSMUST00000177564.1  6.0  0.0  0.0     0.0     0.0   \n",
       "1                1  ENSMUST00000196221.1  6.0  0.0  0.0     0.0     0.0   \n",
       "2                2  ENSMUST00000179664.1  6.0  0.0  0.0     0.0     0.0   \n",
       "3                3  ENSMUST00000178537.1  6.0  0.0  0.0     0.0     0.0   \n",
       "4                4  ENSMUST00000178862.1  6.0  0.0  0.0     0.0     0.0   \n",
       "...            ...                   ...  ...  ...  ...     ...     ...   \n",
       "109277      109277  ENSMUST00000181902.2  6.0  0.0  0.0     0.0     0.0   \n",
       "109278      109278  ENSMUST00000181878.2  6.0  0.0  0.0     0.0     0.0   \n",
       "109279      109279  ENSMUST00000201504.1  6.0  0.0  0.0     0.0     0.0   \n",
       "109280      109280  ENSMUST00000200975.1  6.0  0.0  0.0     0.0     0.0   \n",
       "109281      109281  ENSMUST00000202689.1  6.0  0.0  0.0     0.0     0.0   \n",
       "\n",
       "        Treat3  Treat4  Treat5  Treat6  \n",
       "0          0.0     0.0     0.0     0.0  \n",
       "1          0.0     0.0     0.0     0.0  \n",
       "2          0.0     0.0     0.0     0.0  \n",
       "3          0.0     0.0     0.0     0.0  \n",
       "4          0.0     0.0     0.0     0.0  \n",
       "...        ...     ...     ...     ...  \n",
       "109277     0.0     0.0     0.0     0.0  \n",
       "109278     0.0     0.0     0.0     0.0  \n",
       "109279     0.0     0.0     0.0     0.0  \n",
       "109280     0.0     0.0     0.0     0.0  \n",
       "109281     0.0     0.0     0.0     0.0  \n",
       "\n",
       "[109282 rows x 11 columns]"
      ]
     },
     "execution_count": 61,
     "metadata": {},
     "output_type": "execute_result"
    }
   ],
   "source": [
    "df"
   ]
  },
  {
   "cell_type": "code",
   "execution_count": 63,
   "id": "19da3b85",
   "metadata": {},
   "outputs": [
    {
     "data": {
      "text/plain": [
       "109279"
      ]
     },
     "execution_count": 63,
     "metadata": {},
     "output_type": "execute_result"
    }
   ],
   "source": [
    "df.index[109279]"
   ]
  },
  {
   "cell_type": "code",
   "execution_count": 64,
   "id": "6aceb79a",
   "metadata": {},
   "outputs": [
    {
     "data": {
      "text/html": [
       "<div>\n",
       "<style scoped>\n",
       "    .dataframe tbody tr th:only-of-type {\n",
       "        vertical-align: middle;\n",
       "    }\n",
       "\n",
       "    .dataframe tbody tr th {\n",
       "        vertical-align: top;\n",
       "    }\n",
       "\n",
       "    .dataframe thead th {\n",
       "        text-align: right;\n",
       "    }\n",
       "</style>\n",
       "<table border=\"1\" class=\"dataframe\">\n",
       "  <thead>\n",
       "    <tr style=\"text-align: right;\">\n",
       "      <th></th>\n",
       "      <th>WT1</th>\n",
       "      <th>WT2</th>\n",
       "      <th>WT3</th>\n",
       "      <th>Treat1</th>\n",
       "      <th>Treat2</th>\n",
       "      <th>Treat3</th>\n",
       "      <th>Treat4</th>\n",
       "      <th>Treat5</th>\n",
       "      <th>Treat6</th>\n",
       "    </tr>\n",
       "  </thead>\n",
       "  <tbody>\n",
       "    <tr>\n",
       "      <th>10</th>\n",
       "      <td>6.0</td>\n",
       "      <td>0.0</td>\n",
       "      <td>0.0</td>\n",
       "      <td>0.0</td>\n",
       "      <td>0.0</td>\n",
       "      <td>0.0</td>\n",
       "      <td>0.0</td>\n",
       "      <td>0.0</td>\n",
       "      <td>0.0</td>\n",
       "    </tr>\n",
       "    <tr>\n",
       "      <th>11</th>\n",
       "      <td>6.0</td>\n",
       "      <td>0.0</td>\n",
       "      <td>0.0</td>\n",
       "      <td>0.0</td>\n",
       "      <td>0.0</td>\n",
       "      <td>0.0</td>\n",
       "      <td>0.0</td>\n",
       "      <td>0.0</td>\n",
       "      <td>0.0</td>\n",
       "    </tr>\n",
       "    <tr>\n",
       "      <th>12</th>\n",
       "      <td>6.0</td>\n",
       "      <td>0.0</td>\n",
       "      <td>0.0</td>\n",
       "      <td>0.0</td>\n",
       "      <td>0.0</td>\n",
       "      <td>0.0</td>\n",
       "      <td>0.0</td>\n",
       "      <td>0.0</td>\n",
       "      <td>0.0</td>\n",
       "    </tr>\n",
       "    <tr>\n",
       "      <th>13</th>\n",
       "      <td>6.0</td>\n",
       "      <td>0.0</td>\n",
       "      <td>0.0</td>\n",
       "      <td>0.0</td>\n",
       "      <td>0.0</td>\n",
       "      <td>0.0</td>\n",
       "      <td>0.0</td>\n",
       "      <td>0.0</td>\n",
       "      <td>0.0</td>\n",
       "    </tr>\n",
       "    <tr>\n",
       "      <th>14</th>\n",
       "      <td>6.0</td>\n",
       "      <td>0.0</td>\n",
       "      <td>0.0</td>\n",
       "      <td>0.0</td>\n",
       "      <td>0.0</td>\n",
       "      <td>0.0</td>\n",
       "      <td>0.0</td>\n",
       "      <td>0.0</td>\n",
       "      <td>0.0</td>\n",
       "    </tr>\n",
       "    <tr>\n",
       "      <th>...</th>\n",
       "      <td>...</td>\n",
       "      <td>...</td>\n",
       "      <td>...</td>\n",
       "      <td>...</td>\n",
       "      <td>...</td>\n",
       "      <td>...</td>\n",
       "      <td>...</td>\n",
       "      <td>...</td>\n",
       "      <td>...</td>\n",
       "    </tr>\n",
       "    <tr>\n",
       "      <th>109277</th>\n",
       "      <td>6.0</td>\n",
       "      <td>0.0</td>\n",
       "      <td>0.0</td>\n",
       "      <td>0.0</td>\n",
       "      <td>0.0</td>\n",
       "      <td>0.0</td>\n",
       "      <td>0.0</td>\n",
       "      <td>0.0</td>\n",
       "      <td>0.0</td>\n",
       "    </tr>\n",
       "    <tr>\n",
       "      <th>109278</th>\n",
       "      <td>6.0</td>\n",
       "      <td>0.0</td>\n",
       "      <td>0.0</td>\n",
       "      <td>0.0</td>\n",
       "      <td>0.0</td>\n",
       "      <td>0.0</td>\n",
       "      <td>0.0</td>\n",
       "      <td>0.0</td>\n",
       "      <td>0.0</td>\n",
       "    </tr>\n",
       "    <tr>\n",
       "      <th>109279</th>\n",
       "      <td>6.0</td>\n",
       "      <td>0.0</td>\n",
       "      <td>0.0</td>\n",
       "      <td>0.0</td>\n",
       "      <td>0.0</td>\n",
       "      <td>0.0</td>\n",
       "      <td>0.0</td>\n",
       "      <td>0.0</td>\n",
       "      <td>0.0</td>\n",
       "    </tr>\n",
       "    <tr>\n",
       "      <th>109280</th>\n",
       "      <td>6.0</td>\n",
       "      <td>0.0</td>\n",
       "      <td>0.0</td>\n",
       "      <td>0.0</td>\n",
       "      <td>0.0</td>\n",
       "      <td>0.0</td>\n",
       "      <td>0.0</td>\n",
       "      <td>0.0</td>\n",
       "      <td>0.0</td>\n",
       "    </tr>\n",
       "    <tr>\n",
       "      <th>109281</th>\n",
       "      <td>6.0</td>\n",
       "      <td>0.0</td>\n",
       "      <td>0.0</td>\n",
       "      <td>0.0</td>\n",
       "      <td>0.0</td>\n",
       "      <td>0.0</td>\n",
       "      <td>0.0</td>\n",
       "      <td>0.0</td>\n",
       "      <td>0.0</td>\n",
       "    </tr>\n",
       "  </tbody>\n",
       "</table>\n",
       "<p>109272 rows × 9 columns</p>\n",
       "</div>"
      ],
      "text/plain": [
       "        WT1  WT2  WT3  Treat1  Treat2  Treat3  Treat4  Treat5  Treat6\n",
       "10      6.0  0.0  0.0     0.0     0.0     0.0     0.0     0.0     0.0\n",
       "11      6.0  0.0  0.0     0.0     0.0     0.0     0.0     0.0     0.0\n",
       "12      6.0  0.0  0.0     0.0     0.0     0.0     0.0     0.0     0.0\n",
       "13      6.0  0.0  0.0     0.0     0.0     0.0     0.0     0.0     0.0\n",
       "14      6.0  0.0  0.0     0.0     0.0     0.0     0.0     0.0     0.0\n",
       "...     ...  ...  ...     ...     ...     ...     ...     ...     ...\n",
       "109277  6.0  0.0  0.0     0.0     0.0     0.0     0.0     0.0     0.0\n",
       "109278  6.0  0.0  0.0     0.0     0.0     0.0     0.0     0.0     0.0\n",
       "109279  6.0  0.0  0.0     0.0     0.0     0.0     0.0     0.0     0.0\n",
       "109280  6.0  0.0  0.0     0.0     0.0     0.0     0.0     0.0     0.0\n",
       "109281  6.0  0.0  0.0     0.0     0.0     0.0     0.0     0.0     0.0\n",
       "\n",
       "[109272 rows x 9 columns]"
      ]
     },
     "execution_count": 64,
     "metadata": {},
     "output_type": "execute_result"
    }
   ],
   "source": [
    "df.iloc[10:,2:]"
   ]
  },
  {
   "cell_type": "code",
   "execution_count": null,
   "id": "3a2b1bc2",
   "metadata": {},
   "outputs": [],
   "source": [
    "copy_df.iloc[-1,-1]='changed_value'"
   ]
  },
  {
   "cell_type": "code",
   "execution_count": null,
   "id": "0225dbe8",
   "metadata": {},
   "outputs": [],
   "source": [
    "copy_df"
   ]
  },
  {
   "cell_type": "code",
   "execution_count": 69,
   "id": "effd8264",
   "metadata": {},
   "outputs": [
    {
     "data": {
      "text/html": [
       "<div>\n",
       "<style scoped>\n",
       "    .dataframe tbody tr th:only-of-type {\n",
       "        vertical-align: middle;\n",
       "    }\n",
       "\n",
       "    .dataframe tbody tr th {\n",
       "        vertical-align: top;\n",
       "    }\n",
       "\n",
       "    .dataframe thead th {\n",
       "        text-align: right;\n",
       "    }\n",
       "</style>\n",
       "<table border=\"1\" class=\"dataframe\">\n",
       "  <thead>\n",
       "    <tr style=\"text-align: right;\">\n",
       "      <th></th>\n",
       "      <th>Unnamed: 0</th>\n",
       "      <th>target_id</th>\n",
       "      <th>WT1</th>\n",
       "      <th>WT2</th>\n",
       "      <th>WT3</th>\n",
       "      <th>Treat1</th>\n",
       "      <th>Treat2</th>\n",
       "      <th>Treat3</th>\n",
       "      <th>Treat4</th>\n",
       "      <th>Treat5</th>\n",
       "      <th>Treat6</th>\n",
       "    </tr>\n",
       "  </thead>\n",
       "  <tbody>\n",
       "    <tr>\n",
       "      <th>0</th>\n",
       "      <td>0</td>\n",
       "      <td>ENSMUST00000177564.1</td>\n",
       "      <td>6.0</td>\n",
       "      <td>0.0</td>\n",
       "      <td>0.0</td>\n",
       "      <td>0.0</td>\n",
       "      <td>0.0</td>\n",
       "      <td>0.0</td>\n",
       "      <td>0.0</td>\n",
       "      <td>0.0</td>\n",
       "      <td>0.0</td>\n",
       "    </tr>\n",
       "    <tr>\n",
       "      <th>1</th>\n",
       "      <td>1</td>\n",
       "      <td>ENSMUST00000196221.1</td>\n",
       "      <td>6.0</td>\n",
       "      <td>0.0</td>\n",
       "      <td>0.0</td>\n",
       "      <td>0.0</td>\n",
       "      <td>0.0</td>\n",
       "      <td>0.0</td>\n",
       "      <td>0.0</td>\n",
       "      <td>0.0</td>\n",
       "      <td>0.0</td>\n",
       "    </tr>\n",
       "    <tr>\n",
       "      <th>2</th>\n",
       "      <td>2</td>\n",
       "      <td>ENSMUST00000179664.1</td>\n",
       "      <td>6.0</td>\n",
       "      <td>0.0</td>\n",
       "      <td>0.0</td>\n",
       "      <td>0.0</td>\n",
       "      <td>0.0</td>\n",
       "      <td>0.0</td>\n",
       "      <td>0.0</td>\n",
       "      <td>0.0</td>\n",
       "      <td>0.0</td>\n",
       "    </tr>\n",
       "    <tr>\n",
       "      <th>3</th>\n",
       "      <td>3</td>\n",
       "      <td>ENSMUST00000178537.1</td>\n",
       "      <td>6.0</td>\n",
       "      <td>0.0</td>\n",
       "      <td>0.0</td>\n",
       "      <td>0.0</td>\n",
       "      <td>0.0</td>\n",
       "      <td>0.0</td>\n",
       "      <td>0.0</td>\n",
       "      <td>0.0</td>\n",
       "      <td>0.0</td>\n",
       "    </tr>\n",
       "    <tr>\n",
       "      <th>4</th>\n",
       "      <td>4</td>\n",
       "      <td>ENSMUST00000178862.1</td>\n",
       "      <td>6.0</td>\n",
       "      <td>0.0</td>\n",
       "      <td>0.0</td>\n",
       "      <td>0.0</td>\n",
       "      <td>0.0</td>\n",
       "      <td>0.0</td>\n",
       "      <td>0.0</td>\n",
       "      <td>0.0</td>\n",
       "      <td>0.0</td>\n",
       "    </tr>\n",
       "    <tr>\n",
       "      <th>...</th>\n",
       "      <td>...</td>\n",
       "      <td>...</td>\n",
       "      <td>...</td>\n",
       "      <td>...</td>\n",
       "      <td>...</td>\n",
       "      <td>...</td>\n",
       "      <td>...</td>\n",
       "      <td>...</td>\n",
       "      <td>...</td>\n",
       "      <td>...</td>\n",
       "      <td>...</td>\n",
       "    </tr>\n",
       "    <tr>\n",
       "      <th>109277</th>\n",
       "      <td>109277</td>\n",
       "      <td>ENSMUST00000181902.2</td>\n",
       "      <td>6.0</td>\n",
       "      <td>0.0</td>\n",
       "      <td>0.0</td>\n",
       "      <td>0.0</td>\n",
       "      <td>0.0</td>\n",
       "      <td>0.0</td>\n",
       "      <td>0.0</td>\n",
       "      <td>0.0</td>\n",
       "      <td>0.0</td>\n",
       "    </tr>\n",
       "    <tr>\n",
       "      <th>109278</th>\n",
       "      <td>109278</td>\n",
       "      <td>ENSMUST00000181878.2</td>\n",
       "      <td>6.0</td>\n",
       "      <td>0.0</td>\n",
       "      <td>0.0</td>\n",
       "      <td>0.0</td>\n",
       "      <td>0.0</td>\n",
       "      <td>0.0</td>\n",
       "      <td>0.0</td>\n",
       "      <td>0.0</td>\n",
       "      <td>0.0</td>\n",
       "    </tr>\n",
       "    <tr>\n",
       "      <th>109279</th>\n",
       "      <td>109279</td>\n",
       "      <td>ENSMUST00000201504.1</td>\n",
       "      <td>6.0</td>\n",
       "      <td>0.0</td>\n",
       "      <td>0.0</td>\n",
       "      <td>0.0</td>\n",
       "      <td>0.0</td>\n",
       "      <td>0.0</td>\n",
       "      <td>0.0</td>\n",
       "      <td>0.0</td>\n",
       "      <td>0.0</td>\n",
       "    </tr>\n",
       "    <tr>\n",
       "      <th>109280</th>\n",
       "      <td>109280</td>\n",
       "      <td>ENSMUST00000200975.1</td>\n",
       "      <td>6.0</td>\n",
       "      <td>0.0</td>\n",
       "      <td>0.0</td>\n",
       "      <td>0.0</td>\n",
       "      <td>0.0</td>\n",
       "      <td>0.0</td>\n",
       "      <td>0.0</td>\n",
       "      <td>0.0</td>\n",
       "      <td>0.0</td>\n",
       "    </tr>\n",
       "    <tr>\n",
       "      <th>109281</th>\n",
       "      <td>109281</td>\n",
       "      <td>ENSMUST00000202689.1</td>\n",
       "      <td>6.0</td>\n",
       "      <td>0.0</td>\n",
       "      <td>0.0</td>\n",
       "      <td>0.0</td>\n",
       "      <td>0.0</td>\n",
       "      <td>0.0</td>\n",
       "      <td>0.0</td>\n",
       "      <td>0.0</td>\n",
       "      <td>0.0</td>\n",
       "    </tr>\n",
       "  </tbody>\n",
       "</table>\n",
       "<p>109282 rows × 11 columns</p>\n",
       "</div>"
      ],
      "text/plain": [
       "        Unnamed: 0             target_id  WT1  WT2  WT3  Treat1  Treat2  \\\n",
       "0                0  ENSMUST00000177564.1  6.0  0.0  0.0     0.0     0.0   \n",
       "1                1  ENSMUST00000196221.1  6.0  0.0  0.0     0.0     0.0   \n",
       "2                2  ENSMUST00000179664.1  6.0  0.0  0.0     0.0     0.0   \n",
       "3                3  ENSMUST00000178537.1  6.0  0.0  0.0     0.0     0.0   \n",
       "4                4  ENSMUST00000178862.1  6.0  0.0  0.0     0.0     0.0   \n",
       "...            ...                   ...  ...  ...  ...     ...     ...   \n",
       "109277      109277  ENSMUST00000181902.2  6.0  0.0  0.0     0.0     0.0   \n",
       "109278      109278  ENSMUST00000181878.2  6.0  0.0  0.0     0.0     0.0   \n",
       "109279      109279  ENSMUST00000201504.1  6.0  0.0  0.0     0.0     0.0   \n",
       "109280      109280  ENSMUST00000200975.1  6.0  0.0  0.0     0.0     0.0   \n",
       "109281      109281  ENSMUST00000202689.1  6.0  0.0  0.0     0.0     0.0   \n",
       "\n",
       "        Treat3  Treat4  Treat5  Treat6  \n",
       "0          0.0     0.0     0.0     0.0  \n",
       "1          0.0     0.0     0.0     0.0  \n",
       "2          0.0     0.0     0.0     0.0  \n",
       "3          0.0     0.0     0.0     0.0  \n",
       "4          0.0     0.0     0.0     0.0  \n",
       "...        ...     ...     ...     ...  \n",
       "109277     0.0     0.0     0.0     0.0  \n",
       "109278     0.0     0.0     0.0     0.0  \n",
       "109279     0.0     0.0     0.0     0.0  \n",
       "109280     0.0     0.0     0.0     0.0  \n",
       "109281     0.0     0.0     0.0     0.0  \n",
       "\n",
       "[109282 rows x 11 columns]"
      ]
     },
     "execution_count": 69,
     "metadata": {},
     "output_type": "execute_result"
    }
   ],
   "source": [
    "df"
   ]
  },
  {
   "cell_type": "code",
   "execution_count": 70,
   "id": "ad0e4cb6",
   "metadata": {},
   "outputs": [],
   "source": [
    "df2=df"
   ]
  },
  {
   "cell_type": "code",
   "execution_count": 71,
   "id": "a1171912",
   "metadata": {},
   "outputs": [],
   "source": [
    "df.iloc[-1,-1]='changed_value'"
   ]
  },
  {
   "cell_type": "code",
   "execution_count": 72,
   "id": "351f6674",
   "metadata": {},
   "outputs": [
    {
     "data": {
      "text/html": [
       "<div>\n",
       "<style scoped>\n",
       "    .dataframe tbody tr th:only-of-type {\n",
       "        vertical-align: middle;\n",
       "    }\n",
       "\n",
       "    .dataframe tbody tr th {\n",
       "        vertical-align: top;\n",
       "    }\n",
       "\n",
       "    .dataframe thead th {\n",
       "        text-align: right;\n",
       "    }\n",
       "</style>\n",
       "<table border=\"1\" class=\"dataframe\">\n",
       "  <thead>\n",
       "    <tr style=\"text-align: right;\">\n",
       "      <th></th>\n",
       "      <th>Unnamed: 0</th>\n",
       "      <th>target_id</th>\n",
       "      <th>WT1</th>\n",
       "      <th>WT2</th>\n",
       "      <th>WT3</th>\n",
       "      <th>Treat1</th>\n",
       "      <th>Treat2</th>\n",
       "      <th>Treat3</th>\n",
       "      <th>Treat4</th>\n",
       "      <th>Treat5</th>\n",
       "      <th>Treat6</th>\n",
       "    </tr>\n",
       "  </thead>\n",
       "  <tbody>\n",
       "    <tr>\n",
       "      <th>0</th>\n",
       "      <td>0</td>\n",
       "      <td>ENSMUST00000177564.1</td>\n",
       "      <td>6.0</td>\n",
       "      <td>0.0</td>\n",
       "      <td>0.0</td>\n",
       "      <td>0.0</td>\n",
       "      <td>0.0</td>\n",
       "      <td>0.0</td>\n",
       "      <td>0.0</td>\n",
       "      <td>0.0</td>\n",
       "      <td>0.0</td>\n",
       "    </tr>\n",
       "    <tr>\n",
       "      <th>1</th>\n",
       "      <td>1</td>\n",
       "      <td>ENSMUST00000196221.1</td>\n",
       "      <td>6.0</td>\n",
       "      <td>0.0</td>\n",
       "      <td>0.0</td>\n",
       "      <td>0.0</td>\n",
       "      <td>0.0</td>\n",
       "      <td>0.0</td>\n",
       "      <td>0.0</td>\n",
       "      <td>0.0</td>\n",
       "      <td>0.0</td>\n",
       "    </tr>\n",
       "    <tr>\n",
       "      <th>2</th>\n",
       "      <td>2</td>\n",
       "      <td>ENSMUST00000179664.1</td>\n",
       "      <td>6.0</td>\n",
       "      <td>0.0</td>\n",
       "      <td>0.0</td>\n",
       "      <td>0.0</td>\n",
       "      <td>0.0</td>\n",
       "      <td>0.0</td>\n",
       "      <td>0.0</td>\n",
       "      <td>0.0</td>\n",
       "      <td>0.0</td>\n",
       "    </tr>\n",
       "    <tr>\n",
       "      <th>3</th>\n",
       "      <td>3</td>\n",
       "      <td>ENSMUST00000178537.1</td>\n",
       "      <td>6.0</td>\n",
       "      <td>0.0</td>\n",
       "      <td>0.0</td>\n",
       "      <td>0.0</td>\n",
       "      <td>0.0</td>\n",
       "      <td>0.0</td>\n",
       "      <td>0.0</td>\n",
       "      <td>0.0</td>\n",
       "      <td>0.0</td>\n",
       "    </tr>\n",
       "    <tr>\n",
       "      <th>4</th>\n",
       "      <td>4</td>\n",
       "      <td>ENSMUST00000178862.1</td>\n",
       "      <td>6.0</td>\n",
       "      <td>0.0</td>\n",
       "      <td>0.0</td>\n",
       "      <td>0.0</td>\n",
       "      <td>0.0</td>\n",
       "      <td>0.0</td>\n",
       "      <td>0.0</td>\n",
       "      <td>0.0</td>\n",
       "      <td>0.0</td>\n",
       "    </tr>\n",
       "    <tr>\n",
       "      <th>...</th>\n",
       "      <td>...</td>\n",
       "      <td>...</td>\n",
       "      <td>...</td>\n",
       "      <td>...</td>\n",
       "      <td>...</td>\n",
       "      <td>...</td>\n",
       "      <td>...</td>\n",
       "      <td>...</td>\n",
       "      <td>...</td>\n",
       "      <td>...</td>\n",
       "      <td>...</td>\n",
       "    </tr>\n",
       "    <tr>\n",
       "      <th>109277</th>\n",
       "      <td>109277</td>\n",
       "      <td>ENSMUST00000181902.2</td>\n",
       "      <td>6.0</td>\n",
       "      <td>0.0</td>\n",
       "      <td>0.0</td>\n",
       "      <td>0.0</td>\n",
       "      <td>0.0</td>\n",
       "      <td>0.0</td>\n",
       "      <td>0.0</td>\n",
       "      <td>0.0</td>\n",
       "      <td>0.0</td>\n",
       "    </tr>\n",
       "    <tr>\n",
       "      <th>109278</th>\n",
       "      <td>109278</td>\n",
       "      <td>ENSMUST00000181878.2</td>\n",
       "      <td>6.0</td>\n",
       "      <td>0.0</td>\n",
       "      <td>0.0</td>\n",
       "      <td>0.0</td>\n",
       "      <td>0.0</td>\n",
       "      <td>0.0</td>\n",
       "      <td>0.0</td>\n",
       "      <td>0.0</td>\n",
       "      <td>0.0</td>\n",
       "    </tr>\n",
       "    <tr>\n",
       "      <th>109279</th>\n",
       "      <td>109279</td>\n",
       "      <td>ENSMUST00000201504.1</td>\n",
       "      <td>6.0</td>\n",
       "      <td>0.0</td>\n",
       "      <td>0.0</td>\n",
       "      <td>0.0</td>\n",
       "      <td>0.0</td>\n",
       "      <td>0.0</td>\n",
       "      <td>0.0</td>\n",
       "      <td>0.0</td>\n",
       "      <td>0.0</td>\n",
       "    </tr>\n",
       "    <tr>\n",
       "      <th>109280</th>\n",
       "      <td>109280</td>\n",
       "      <td>ENSMUST00000200975.1</td>\n",
       "      <td>6.0</td>\n",
       "      <td>0.0</td>\n",
       "      <td>0.0</td>\n",
       "      <td>0.0</td>\n",
       "      <td>0.0</td>\n",
       "      <td>0.0</td>\n",
       "      <td>0.0</td>\n",
       "      <td>0.0</td>\n",
       "      <td>0.0</td>\n",
       "    </tr>\n",
       "    <tr>\n",
       "      <th>109281</th>\n",
       "      <td>109281</td>\n",
       "      <td>ENSMUST00000202689.1</td>\n",
       "      <td>6.0</td>\n",
       "      <td>0.0</td>\n",
       "      <td>0.0</td>\n",
       "      <td>0.0</td>\n",
       "      <td>0.0</td>\n",
       "      <td>0.0</td>\n",
       "      <td>0.0</td>\n",
       "      <td>0.0</td>\n",
       "      <td>changed_value</td>\n",
       "    </tr>\n",
       "  </tbody>\n",
       "</table>\n",
       "<p>109282 rows × 11 columns</p>\n",
       "</div>"
      ],
      "text/plain": [
       "        Unnamed: 0             target_id  WT1  WT2  WT3  Treat1  Treat2  \\\n",
       "0                0  ENSMUST00000177564.1  6.0  0.0  0.0     0.0     0.0   \n",
       "1                1  ENSMUST00000196221.1  6.0  0.0  0.0     0.0     0.0   \n",
       "2                2  ENSMUST00000179664.1  6.0  0.0  0.0     0.0     0.0   \n",
       "3                3  ENSMUST00000178537.1  6.0  0.0  0.0     0.0     0.0   \n",
       "4                4  ENSMUST00000178862.1  6.0  0.0  0.0     0.0     0.0   \n",
       "...            ...                   ...  ...  ...  ...     ...     ...   \n",
       "109277      109277  ENSMUST00000181902.2  6.0  0.0  0.0     0.0     0.0   \n",
       "109278      109278  ENSMUST00000181878.2  6.0  0.0  0.0     0.0     0.0   \n",
       "109279      109279  ENSMUST00000201504.1  6.0  0.0  0.0     0.0     0.0   \n",
       "109280      109280  ENSMUST00000200975.1  6.0  0.0  0.0     0.0     0.0   \n",
       "109281      109281  ENSMUST00000202689.1  6.0  0.0  0.0     0.0     0.0   \n",
       "\n",
       "        Treat3  Treat4  Treat5         Treat6  \n",
       "0          0.0     0.0     0.0            0.0  \n",
       "1          0.0     0.0     0.0            0.0  \n",
       "2          0.0     0.0     0.0            0.0  \n",
       "3          0.0     0.0     0.0            0.0  \n",
       "4          0.0     0.0     0.0            0.0  \n",
       "...        ...     ...     ...            ...  \n",
       "109277     0.0     0.0     0.0            0.0  \n",
       "109278     0.0     0.0     0.0            0.0  \n",
       "109279     0.0     0.0     0.0            0.0  \n",
       "109280     0.0     0.0     0.0            0.0  \n",
       "109281     0.0     0.0     0.0  changed_value  \n",
       "\n",
       "[109282 rows x 11 columns]"
      ]
     },
     "execution_count": 72,
     "metadata": {},
     "output_type": "execute_result"
    }
   ],
   "source": [
    "df2"
   ]
  },
  {
   "cell_type": "code",
   "execution_count": null,
   "id": "ced42962",
   "metadata": {},
   "outputs": [],
   "source": [
    "# 데이터프레임 생성하기"
   ]
  },
  {
   "cell_type": "code",
   "execution_count": 73,
   "id": "051e462c",
   "metadata": {},
   "outputs": [],
   "source": [
    "tnfa = '''ACCATGAGCACAGAAAGCATGATCCGCGACGTGGAACTGGCAGAAGAGGCACTCCCCCAAAAGATGGGGG\n",
    "GCTTCCAGAACTCCAGGCGGTGCCTATGTCTCAGCCTCTTCTCATTCCTGCTTGTGGCAGGGGCCACCAC\n",
    "GCTCTTCTGTCTACTGAACTTCGGGGTGATCGGTCCCCAAAGGGATGAGGTGAGTNNNNNNNNNNNNNNN\n",
    "NNNNNNNNNNNNNNNNNNNNNNNNNNNNNNNNNNNNNNNNNNNNNNNNNNNNNNNNNNNNNNNNNNNNNN\n",
    "NNNNNNNNNNNNNNNCTCCTTCTTTTCCTACACAGAAGTTCCCAAATGGCCTCCCTCTCATCAGTTCTAT\n",
    "GGCCCAGACCCTCACACTCAGTAAGTGTTCCCACACCTCTCTCTTAATTTAAGATGGAGGAAGGGCAGTT\n",
    "AGGCATGGGATGAGATGGGGTGGGGGGAGAACTTAAAGCTTTGGTTTGGGAGGAAAGGGGTCTAAGTGCA\n",
    "TAGATGCTTGCTGGGAAGCCTAAAAGGCTCATCCTTGCCTTTGTCTCTTCCCCTCCAGGATCATCTTCTC\n",
    "AAAATTCGAGTGACAAGCCTGTAGCCCACGTCGTAGGTAANNNNNNNNNNNNNNNNNNNNNNNNNNNNNN\n",
    "NNNNNNNNNNNNNNNNNNNNNNNNNNNNNNNNNNNNNNNNNNNNNNNNNNNNNNNNNNNNNNNNNNNNNN\n",
    "CCCCCCCCCCTCAGCAAACCACCAAGTGGAGGAGCAGCTGGAGTGGCTGAGCCAGCGCGCCAACGCCCTC\n",
    "CTGGCCAACGGCATGGATCTCAAAGACAACCAACTAGTGGTGCCAGCCGATGGGTTGTACCTTGTCTACT\n",
    "CCCAGGTTCTCTTCAAGGGACAAGGCTGCCCCGACTACGTGCTCCTCACCCACACCGTCAGCCGATTTGC\n",
    "TATCTCATACCAGGAGAAAGTCAACCTCCTCTCTGCCGTCAAGAGCCCCTGCCCCAAGGACACCCCTGAG\n",
    "GGGGCTGAGCTCAAACCCTGGTATGAGCCCATATACCTGGGAGGAGTCTTCCAGCTGGAGAAGGGGGACC\n",
    "AACTCAGCGCTGAGGTCAATCTGCCCAAGTACTTAGACTTTGCGGAGTCCGGGCAGGTCTACTTTGGAGT\n",
    "CATTGCTCTGTGAAGA'''"
   ]
  },
  {
   "cell_type": "code",
   "execution_count": 74,
   "id": "45a77bdb",
   "metadata": {},
   "outputs": [
    {
     "name": "stdout",
     "output_type": "stream",
     "text": [
      "ACCATGAGCACAGAAAGCATGATCCGCGACGTGGAACTGGCAGAAGAGGCACTCCCCCAAAAGATGGGGG\n",
      "GCTTCCAGAACTCCAGGCGGTGCCTATGTCTCAGCCTCTTCTCATTCCTGCTTGTGGCAGGGGCCACCAC\n",
      "GCTCTTCTGTCTACTGAACTTCGGGGTGATCGGTCCCCAAAGGGATGAGGTGAGTNNNNNNNNNNNNNNN\n",
      "NNNNNNNNNNNNNNNNNNNNNNNNNNNNNNNNNNNNNNNNNNNNNNNNNNNNNNNNNNNNNNNNNNNNNN\n",
      "NNNNNNNNNNNNNNNCTCCTTCTTTTCCTACACAGAAGTTCCCAAATGGCCTCCCTCTCATCAGTTCTAT\n",
      "GGCCCAGACCCTCACACTCAGTAAGTGTTCCCACACCTCTCTCTTAATTTAAGATGGAGGAAGGGCAGTT\n",
      "AGGCATGGGATGAGATGGGGTGGGGGGAGAACTTAAAGCTTTGGTTTGGGAGGAAAGGGGTCTAAGTGCA\n",
      "TAGATGCTTGCTGGGAAGCCTAAAAGGCTCATCCTTGCCTTTGTCTCTTCCCCTCCAGGATCATCTTCTC\n",
      "AAAATTCGAGTGACAAGCCTGTAGCCCACGTCGTAGGTAANNNNNNNNNNNNNNNNNNNNNNNNNNNNNN\n",
      "NNNNNNNNNNNNNNNNNNNNNNNNNNNNNNNNNNNNNNNNNNNNNNNNNNNNNNNNNNNNNNNNNNNNNN\n",
      "CCCCCCCCCCTCAGCAAACCACCAAGTGGAGGAGCAGCTGGAGTGGCTGAGCCAGCGCGCCAACGCCCTC\n",
      "CTGGCCAACGGCATGGATCTCAAAGACAACCAACTAGTGGTGCCAGCCGATGGGTTGTACCTTGTCTACT\n",
      "CCCAGGTTCTCTTCAAGGGACAAGGCTGCCCCGACTACGTGCTCCTCACCCACACCGTCAGCCGATTTGC\n",
      "TATCTCATACCAGGAGAAAGTCAACCTCCTCTCTGCCGTCAAGAGCCCCTGCCCCAAGGACACCCCTGAG\n",
      "GGGGCTGAGCTCAAACCCTGGTATGAGCCCATATACCTGGGAGGAGTCTTCCAGCTGGAGAAGGGGGACC\n",
      "AACTCAGCGCTGAGGTCAATCTGCCCAAGTACTTAGACTTTGCGGAGTCCGGGCAGGTCTACTTTGGAGT\n",
      "CATTGCTCTGTGAAGA\n"
     ]
    }
   ],
   "source": [
    "print(tnfa)"
   ]
  },
  {
   "cell_type": "code",
   "execution_count": 75,
   "id": "e428f027",
   "metadata": {},
   "outputs": [
    {
     "data": {
      "text/plain": [
       "'ACCATGAGCACAGAAAGCATGATCCGCGACGTGGAACTGGCAGAAGAGGCACTCCCCCAAAAGATGGGGG\\nGCTTCCAGAACTCCAGGCGGTGCCTATGTCTCAGCCTCTTCTCATTCCTGCTTGTGGCAGGGGCCACCAC\\nGCTCTTCTGTCTACTGAACTTCGGGGTGATCGGTCCCCAAAGGGATGAGGTGAGTNNNNNNNNNNNNNNN\\nNNNNNNNNNNNNNNNNNNNNNNNNNNNNNNNNNNNNNNNNNNNNNNNNNNNNNNNNNNNNNNNNNNNNNN\\nNNNNNNNNNNNNNNNCTCCTTCTTTTCCTACACAGAAGTTCCCAAATGGCCTCCCTCTCATCAGTTCTAT\\nGGCCCAGACCCTCACACTCAGTAAGTGTTCCCACACCTCTCTCTTAATTTAAGATGGAGGAAGGGCAGTT\\nAGGCATGGGATGAGATGGGGTGGGGGGAGAACTTAAAGCTTTGGTTTGGGAGGAAAGGGGTCTAAGTGCA\\nTAGATGCTTGCTGGGAAGCCTAAAAGGCTCATCCTTGCCTTTGTCTCTTCCCCTCCAGGATCATCTTCTC\\nAAAATTCGAGTGACAAGCCTGTAGCCCACGTCGTAGGTAANNNNNNNNNNNNNNNNNNNNNNNNNNNNNN\\nNNNNNNNNNNNNNNNNNNNNNNNNNNNNNNNNNNNNNNNNNNNNNNNNNNNNNNNNNNNNNNNNNNNNNN\\nCCCCCCCCCCTCAGCAAACCACCAAGTGGAGGAGCAGCTGGAGTGGCTGAGCCAGCGCGCCAACGCCCTC\\nCTGGCCAACGGCATGGATCTCAAAGACAACCAACTAGTGGTGCCAGCCGATGGGTTGTACCTTGTCTACT\\nCCCAGGTTCTCTTCAAGGGACAAGGCTGCCCCGACTACGTGCTCCTCACCCACACCGTCAGCCGATTTGC\\nTATCTCATACCAGGAGAAAGTCAACCTCCTCTCTGCCGTCAAGAGCCCCTGCCCCAAGGACACCCCTGAG\\nGGGGCTGAGCTCAAACCCTGGTATGAGCCCATATACCTGGGAGGAGTCTTCCAGCTGGAGAAGGGGGACC\\nAACTCAGCGCTGAGGTCAATCTGCCCAAGTACTTAGACTTTGCGGAGTCCGGGCAGGTCTACTTTGGAGT\\nCATTGCTCTGTGAAGA'"
      ]
     },
     "execution_count": 75,
     "metadata": {},
     "output_type": "execute_result"
    }
   ],
   "source": [
    "tnfa"
   ]
  },
  {
   "cell_type": "code",
   "execution_count": 80,
   "id": "c0ef95a6",
   "metadata": {},
   "outputs": [
    {
     "data": {
      "text/plain": [
       "'ACCATGAGCACAGAAAGCATGATCCGCGACGTGGAACTGGCAGAAGAGGCACTCCCCCAAAAGATGGGGG\\nGCTTCCAGAACTCCAGGCGGTGCCTATGTCTCAGCCTCTTCTCATTCCTGCTTGTGGCAGGGGCCACCAC\\nGCTCTTCTGTCTACTGAACTTCGGGGTGATCGGTCCCCAAAGGGATGAGGTGAGTNNNNNNNNNNNNNNN\\nNNNNNNNNNNNNNNNNNNNNNNNNNNNNNNNNNNNNNNNNNNNNNNNNNNNNNNNNNNNNNNNNNNNNNN\\nNNNNNNNNNNNNNNNCTCCTTCTTTTCCTACACAGAAGTTCCCAAATGGCCTCCCTCTCATCAGTTCTAT\\nGGCCCAGACCCTCACACTCAGTAAGTGTTCCCACACCTCTCTCTTAATTTAAGATGGAGGAAGGGCAGTT\\nAGGCATGGGATGAGATGGGGTGGGGGGAGAACTTAAAGCTTTGGTTTGGGAGGAAAGGGGTCTAAGTGCA\\nTAGATGCTTGCTGGGAAGCCTAAAAGGCTCATCCTTGCCTTTGTCTCTTCCCCTCCAGGATCATCTTCTC\\nAAAATTCGAGTGACAAGCCTGTAGCCCACGTCGTAGGTAANNNNNNNNNNNNNNNNNNNNNNNNNNNNNN\\nNNNNNNNNNNNNNNNNNNNNNNNNNNNNNNNNNNNNNNNNNNNNNNNNNNNNNNNNNNNNNNNNNNNNNN\\nCCCCCCCCCCTCAGCAAACCACCAAGTGGAGGAGCAGCTGGAGTGGCTGAGCCAGCGCGCCAACGCCCTC\\nCTGGCCAACGGCATGGATCTCAAAGACAACCAACTAGTGGTGCCAGCCGATGGGTTGTACCTTGTCTACT\\nCCCAGGTTCTCTTCAAGGGACAAGGCTGCCCCGACTACGTGCTCCTCACCCACACCGTCAGCCGATTTGC\\nTATCTCATACCAGGAGAAAGTCAACCTCCTCTCTGCCGTCAAGAGCCCCTGCCCCAAGGACACCCCTGAG\\nGGGGCTGAGCTCAAACCCTGGTATGAGCCCATATACCTGGGAGGAGTCTTCCAGCTGGAGAAGGGGGACC\\nAACTCAGCGCTGAGGTCAATCTGCCCAAGTACTTAGACTTTGCGGAGTCCGGGCAGGTCTACTTTGGAGT\\nCATTGCTCTGTGAAGA'"
      ]
     },
     "execution_count": 80,
     "metadata": {},
     "output_type": "execute_result"
    }
   ],
   "source": [
    "tnfa.replace('wn','')"
   ]
  },
  {
   "cell_type": "code",
   "execution_count": 81,
   "id": "1fdd8f38",
   "metadata": {},
   "outputs": [
    {
     "ename": "SyntaxError",
     "evalue": "invalid syntax (3418568384.py, line 1)",
     "output_type": "error",
     "traceback": [
      "\u001b[1;36m  File \u001b[1;32m\"C:\\Users\\user\\AppData\\Local\\Temp\\ipykernel_3348\\3418568384.py\"\u001b[1;36m, line \u001b[1;32m1\u001b[0m\n\u001b[1;33m    tnfa=tnfa replace('N','')\u001b[0m\n\u001b[1;37m              ^\u001b[0m\n\u001b[1;31mSyntaxError\u001b[0m\u001b[1;31m:\u001b[0m invalid syntax\n"
     ]
    }
   ],
   "source": [
    "tnfa=tnfa replace('N','')"
   ]
  },
  {
   "cell_type": "code",
   "execution_count": 79,
   "id": "3b6fe6af",
   "metadata": {},
   "outputs": [
    {
     "data": {
      "text/plain": [
       "'ACCATGAGCACAGAAAGCATGATCCGCGACGTGGAACTGGCAGAAGAGGCACTCCCCCAAAAGATGGGGG\\nGCTTCCAGAACTCCAGGCGGTGCCTATGTCTCAGCCTCTTCTCATTCCTGCTTGTGGCAGGGGCCACCAC\\nGCTCTTCTGTCTACTGAACTTCGGGGTGATCGGTCCCCAAAGGGATGAGGTGAGTNNNNNNNNNNNNNNN\\nNNNNNNNNNNNNNNNNNNNNNNNNNNNNNNNNNNNNNNNNNNNNNNNNNNNNNNNNNNNNNNNNNNNNNN\\nNNNNNNNNNNNNNNNCTCCTTCTTTTCCTACACAGAAGTTCCCAAATGGCCTCCCTCTCATCAGTTCTAT\\nGGCCCAGACCCTCACACTCAGTAAGTGTTCCCACACCTCTCTCTTAATTTAAGATGGAGGAAGGGCAGTT\\nAGGCATGGGATGAGATGGGGTGGGGGGAGAACTTAAAGCTTTGGTTTGGGAGGAAAGGGGTCTAAGTGCA\\nTAGATGCTTGCTGGGAAGCCTAAAAGGCTCATCCTTGCCTTTGTCTCTTCCCCTCCAGGATCATCTTCTC\\nAAAATTCGAGTGACAAGCCTGTAGCCCACGTCGTAGGTAANNNNNNNNNNNNNNNNNNNNNNNNNNNNNN\\nNNNNNNNNNNNNNNNNNNNNNNNNNNNNNNNNNNNNNNNNNNNNNNNNNNNNNNNNNNNNNNNNNNNNNN\\nCCCCCCCCCCTCAGCAAACCACCAAGTGGAGGAGCAGCTGGAGTGGCTGAGCCAGCGCGCCAACGCCCTC\\nCTGGCCAACGGCATGGATCTCAAAGACAACCAACTAGTGGTGCCAGCCGATGGGTTGTACCTTGTCTACT\\nCCCAGGTTCTCTTCAAGGGACAAGGCTGCCCCGACTACGTGCTCCTCACCCACACCGTCAGCCGATTTGC\\nTATCTCATACCAGGAGAAAGTCAACCTCCTCTCTGCCGTCAAGAGCCCCTGCCCCAAGGACACCCCTGAG\\nGGGGCTGAGCTCAAACCCTGGTATGAGCCCATATACCTGGGAGGAGTCTTCCAGCTGGAGAAGGGGGACC\\nAACTCAGCGCTGAGGTCAATCTGCCCAAGTACTTAGACTTTGCGGAGTCCGGGCAGGTCTACTTTGGAGT\\nCATTGCTCTGTGAAGA'"
      ]
     },
     "execution_count": 79,
     "metadata": {},
     "output_type": "execute_result"
    }
   ],
   "source": [
    "tnfa_list=[t or  in tnfa]"
   ]
  },
  {
   "cell_type": "code",
   "execution_count": 82,
   "id": "db7b2cff",
   "metadata": {},
   "outputs": [
    {
     "ename": "NameError",
     "evalue": "name 'tnfa_list' is not defined",
     "output_type": "error",
     "traceback": [
      "\u001b[1;31m---------------------------------------------------------------------------\u001b[0m",
      "\u001b[1;31mNameError\u001b[0m                                 Traceback (most recent call last)",
      "\u001b[1;32m~\\AppData\\Local\\Temp\\ipykernel_3348\\3439069776.py\u001b[0m in \u001b[0;36m<module>\u001b[1;34m\u001b[0m\n\u001b[1;32m----> 1\u001b[1;33m \u001b[0mtnfa_list\u001b[0m\u001b[1;33m\u001b[0m\u001b[1;33m\u001b[0m\u001b[0m\n\u001b[0m",
      "\u001b[1;31mNameError\u001b[0m: name 'tnfa_list' is not defined"
     ]
    }
   ],
   "source": [
    "tnfa_list=[t for t in tnfa]"
   ]
  },
  {
   "cell_type": "code",
   "execution_count": null,
   "id": "06bb2fad",
   "metadata": {},
   "outputs": [],
   "source": []
  },
  {
   "cell_type": "code",
   "execution_count": null,
   "id": "0cb5be40",
   "metadata": {},
   "outputs": [],
   "source": []
  }
 ],
 "metadata": {
  "kernelspec": {
   "display_name": "Python 3 (ipykernel)",
   "language": "python",
   "name": "python3"
  },
  "language_info": {
   "codemirror_mode": {
    "name": "ipython",
    "version": 3
   },
   "file_extension": ".py",
   "mimetype": "text/x-python",
   "name": "python",
   "nbconvert_exporter": "python",
   "pygments_lexer": "ipython3",
   "version": "3.9.13"
  }
 },
 "nbformat": 4,
 "nbformat_minor": 5
}
