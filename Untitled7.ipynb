{
 "cells": [
  {
   "cell_type": "markdown",
   "id": "b191ec77",
   "metadata": {},
   "source": [
    "## 프로젝트 안내\n",
    "* 이전에 전달받은 test.csv 파일으령ㄹ고, Sex column를 삭제한 뒤 진행\n",
    "a. 이름을 읽어들여서 성별을 파악한뒤, Sex column에 등록\n",
    "b. Age 항목의 결측치를 파악해 아래 중 하나 수행\n",
    "  a. 결측치를 0으로 대체(fillna 함수 이용 가능)\n",
    "  b. 전체값의 평균으로 대체(mean 함수 이용 가능)\n",
    "  c. 중앙값으로 대체(median 함수 이용 가능)\n",
    "c. 남성이며 나이가 10대인 사람들을 0, 아닌 사람을 x로 표기해 check.column을 만들어 저장\n",
    "d. 해당 파일을 result.tsv로 저장"
   ]
  },
  {
   "cell_type": "code",
   "execution_count": null,
   "id": "b5b9b114",
   "metadata": {},
   "outputs": [],
   "source": [
    "test_df=pro"
   ]
  },
  {
   "cell_type": "code",
   "execution_count": null,
   "id": "6077629b",
   "metadata": {},
   "outputs": [],
   "source": []
  },
  {
   "cell_type": "code",
   "execution_count": null,
   "id": "d8b4c7ef",
   "metadata": {},
   "outputs": [],
   "source": []
  },
  {
   "cell_type": "code",
   "execution_count": null,
   "id": "52bced9e",
   "metadata": {},
   "outputs": [],
   "source": []
  },
  {
   "cell_type": "code",
   "execution_count": null,
   "id": "7a0dcb65",
   "metadata": {},
   "outputs": [],
   "source": []
  },
  {
   "cell_type": "markdown",
   "id": "65b717c8",
   "metadata": {},
   "source": [
    "# "
   ]
  },
  {
   "cell_type": "code",
   "execution_count": 1,
   "id": "1ab4de97",
   "metadata": {},
   "outputs": [
    {
     "name": "stdout",
     "output_type": "stream",
     "text": [
      "a is greater than 1\n"
     ]
    }
   ],
   "source": [
    "a=3\n",
    "if a>1:\n",
    "    print(\"a is greater than 1\")"
   ]
  },
  {
   "cell_type": "code",
   "execution_count": 2,
   "id": "a1c4f14e",
   "metadata": {},
   "outputs": [
    {
     "name": "stdout",
     "output_type": "stream",
     "text": [
      "1\n",
      "2\n",
      "3\n"
     ]
    }
   ],
   "source": [
    "for a in [1,2,3]:\n",
    "    print(a)"
   ]
  },
  {
   "cell_type": "code",
   "execution_count": 3,
   "id": "2b034683",
   "metadata": {
    "scrolled": true
   },
   "outputs": [
    {
     "name": "stdout",
     "output_type": "stream",
     "text": [
      "1\n",
      "2\n",
      "3\n"
     ]
    }
   ],
   "source": [
    "i=0\n",
    "while i<3:\n",
    "    i=i+1\n",
    "    print(i)"
   ]
  },
  {
   "cell_type": "code",
   "execution_count": 4,
   "id": "93829ec8",
   "metadata": {},
   "outputs": [
    {
     "data": {
      "text/plain": [
       "7"
      ]
     },
     "execution_count": 4,
     "metadata": {},
     "output_type": "execute_result"
    }
   ],
   "source": [
    "def add(a,b):\n",
    "    return a+b\n",
    "\n",
    "add(3,4)"
   ]
  },
  {
   "cell_type": "code",
   "execution_count": 6,
   "id": "eefadd0b",
   "metadata": {},
   "outputs": [
    {
     "data": {
      "text/plain": [
       "'Python'"
      ]
     },
     "execution_count": 6,
     "metadata": {},
     "output_type": "execute_result"
    }
   ],
   "source": [
    "a=\"Pithon\"\n",
    "a[:1]\n",
    "'P'\n",
    "a[2:]\n",
    "'thon'\n",
    "a[:1]+'y'+a[2:]"
   ]
  },
  {
   "cell_type": "code",
   "execution_count": 8,
   "id": "12936db5",
   "metadata": {},
   "outputs": [
    {
     "data": {
      "text/plain": [
       "'I eat 3 apples'"
      ]
     },
     "execution_count": 8,
     "metadata": {},
     "output_type": "execute_result"
    }
   ],
   "source": [
    "\"I eat %s apples\" %3 #숫자 바로 대입"
   ]
  },
  {
   "cell_type": "code",
   "execution_count": 9,
   "id": "e9954932",
   "metadata": {},
   "outputs": [
    {
     "data": {
      "text/plain": [
       "'I eat five apples'"
      ]
     },
     "execution_count": 9,
     "metadata": {},
     "output_type": "execute_result"
    }
   ],
   "source": [
    "\"I eat %s apples\" %\"five\" #문자열 바로 대입"
   ]
  },
  {
   "cell_type": "code",
   "execution_count": 10,
   "id": "45a56808",
   "metadata": {},
   "outputs": [
    {
     "data": {
      "text/plain": [
       "'I ate 10 apples. so I was sick for three days'"
      ]
     },
     "execution_count": 10,
     "metadata": {},
     "output_type": "execute_result"
    }
   ],
   "source": [
    "number=10 # 숫자값을 나타내는 변수로 대입\n",
    "day=\"three\" #2개 이상의 값 넣기\n",
    "\"I ate %d apples. so I was sick for %s days\" %(number,day)"
   ]
  },
  {
   "cell_type": "code",
   "execution_count": null,
   "id": "7c749521",
   "metadata": {},
   "outputs": [],
   "source": []
  },
  {
   "cell_type": "code",
   "execution_count": null,
   "id": "9b69f59a",
   "metadata": {},
   "outputs": [],
   "source": []
  },
  {
   "cell_type": "code",
   "execution_count": null,
   "id": "bdb072ae",
   "metadata": {},
   "outputs": [],
   "source": []
  },
  {
   "cell_type": "code",
   "execution_count": null,
   "id": "e1ac9944",
   "metadata": {},
   "outputs": [],
   "source": []
  },
  {
   "cell_type": "markdown",
   "id": "901ea6e0",
   "metadata": {},
   "source": [
    "## 프로젝트 안내\n",
    "* 이전에 전달받은 test.csv 파일으령ㄹ고, Sex column를 삭제한 뒤 진행\n",
    "a. 이름을 읽어들여서 성별을 파악한뒤, Sex column에 등록\n",
    "b. Age 항목의 결측치를 파악해 아래 중 하나 수행\n",
    "  a. 결측치를 0으로 대체(fillna 함수 이용 가능)\n",
    "  b. 전체값의 평균으로 대체(mean 함수 이용 가능)\n",
    "  c. 중앙값으로 대체(median 함수 이용 가능)\n",
    "c. 남성이며 나이가 10대인 사람들을 0, 아닌 사람을 x로 표기해 check.column을 만들어 저장\n",
    "d. 해당 파일을 result.tsv로 저장"
   ]
  },
  {
   "cell_type": "code",
   "execution_count": null,
   "id": "2424a7dc",
   "metadata": {},
   "outputs": [],
   "source": []
  },
  {
   "cell_type": "code",
   "execution_count": null,
   "id": "ac37282e",
   "metadata": {},
   "outputs": [],
   "source": [
    "test_df=project_df[['SibSp', 'Parch']]==1"
   ]
  },
  {
   "cell_type": "code",
   "execution_count": null,
   "id": "4aa3e4eb",
   "metadata": {},
   "outputs": [],
   "source": [
    "res_list[]\n",
    "\n",
    "for i in test_df.idex:\n",
    "    if test_df.loc[i, 'Sibsp']!=True and test_df.loc[i, 'Parch']!=True:\n",
    "        res_list.append(False)\n",
    "    else:\n",
    "        res_list.append(True)"
   ]
  },
  {
   "cell_type": "code",
   "execution_count": null,
   "id": "f7dfc61c",
   "metadata": {},
   "outputs": [],
   "source": []
  },
  {
   "cell_type": "code",
   "execution_count": null,
   "id": "4b44f139",
   "metadata": {},
   "outputs": [],
   "source": []
  }
 ],
 "metadata": {
  "kernelspec": {
   "display_name": "Python 3 (ipykernel)",
   "language": "python",
   "name": "python3"
  },
  "language_info": {
   "codemirror_mode": {
    "name": "ipython",
    "version": 3
   },
   "file_extension": ".py",
   "mimetype": "text/x-python",
   "name": "python",
   "nbconvert_exporter": "python",
   "pygments_lexer": "ipython3",
   "version": "3.9.13"
  }
 },
 "nbformat": 4,
 "nbformat_minor": 5
}
